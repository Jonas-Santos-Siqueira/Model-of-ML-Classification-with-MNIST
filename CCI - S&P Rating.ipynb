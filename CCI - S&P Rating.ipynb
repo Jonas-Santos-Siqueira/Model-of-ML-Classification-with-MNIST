{
 "cells": [
  {
   "cell_type": "markdown",
   "metadata": {},
   "source": [
    "# Recriação do Indicador de Ciclo de Crédito (CCI) da S&P Rating."
   ]
  },
  {
   "cell_type": "markdown",
   "metadata": {},
   "source": [
    "### Introdução:\n",
    "\n",
    "Desde a crise financeira global, bancos centrais mantiveram políticas monetárias acomodatícias para estabilizar a economia e mercados financeiros. Recentemente, essas políticas foram ainda mais facilitadas durante a pandemia de COVID-19. Observando a necessidade de uma ferramenta que consolidasse informações sobre endividamento, preços de ativos e condições de financiamento, a S&P desenvolveu o Indicador de Ciclo de Crédito (CCI), que pretende ser um indicador antecipado de estresse de crédito. O CCI combina cinco componentes: alavancagem da dívida corporativa e das famílias, preços de ações e de imóveis, e o Indicador de Estresse de Financiamento (FSI) da S&P.\n",
    "\n",
    "### Metodologia:\n",
    "\n",
    "O desenvolvimento do CCI é fundamentado em pesquisas acadêmicas que demonstram que o crescimento do crédito em relação ao PIB e a inflação dos preços dos ativos podem aumentar a probabilidade de crises financeiras. O CCI considera os seguintes componentes, conforme tabela abaixo:\n",
    "\n",
    "| Componente                         | Fonte de Dados                             |\n",
    "|------------------------------------|--------------------------------------------|\n",
    "| Crédito ao setor familiar (% do PIB)| Banco de Compensações Internacionais (BIS) |\n",
    "| Crédito ao setor corporativo não financeiro (% do PIB) | BIS          |\n",
    "| Índices de preços de imóveis reais | BIS                                        |\n",
    "| Índices de preços de ações, deflacionados pelo CPI | Bloomberg, Fundo Monetário Internacional (FMI) |\n",
    "| Indicador de Estresse de Financiamento (FSI) | S&P Global Ratings |\n",
    "\n",
    "### Tratamentos e Transformações de Dados:\n",
    "\n",
    "Os dados brutos são organizados por economia e depois agregados regionalmente. Os componentes do CCI passam por várias transformações antes de serem filtrados pelo método de Christiano-Fitzgerald (2003). Este filtro remove tendências de longo prazo, ruídos e sazonalidades de alta frequência, e ciclos com periodicidade maior que 10 anos. Após a filtragem, os dados são normalizados para garantir comparabilidade.\n",
    "\n",
    "| Componente                         | Transformação Antes do Filtro               | Unidades Após o Filtro              |\n",
    "|------------------------------------|--------------------------------------------|------------------------------------|\n",
    "| Crédito/PIB (Famílias e Corporativas) | Nenhuma                                   | Desvio dos ciclos de longo prazo (% do PIB) |\n",
    "| Preços de Ativos (Ações e Imóveis) | Logaritmo Natural                          | Desvio dos ciclos de longo prazo (%) |\n",
    "| FSI                                | Negativo do Logaritmo Natural               | Leituras positivas indicam condições mais frouxas, medidas em desvios padrão do ciclo de longo prazo |\n",
    "\n",
    "### Construção e Padronização Final:\n",
    "\n",
    "Cada CCI por país é calculado como a soma ponderada igualmente dos cinco componentes. As subindicadores de famílias e corporativos são calculados como a média dos respectivos componentes filtrados. Os CCIs por país e suas subindicadores são, então, escalonados para garantir média zero e desvio padrão de 1, resultando em unidades de desvios padrão em relação à média histórica."
   ]
  },
  {
   "cell_type": "markdown",
   "metadata": {},
   "source": [
    "##### Leitura das Bases:"
   ]
  },
  {
   "cell_type": "code",
   "execution_count": 24,
   "metadata": {},
   "outputs": [],
   "source": [
    "import requests\n",
    "import numpy as np\n",
    "import pandas as pd\n",
    "import seaborn as sns\n",
    "import yfinance as yf\n",
    "import matplotlib.pyplot as plt\n",
    "import matplotlib.pyplot as plt\n",
    "import matplotlib.dates as mdates\n",
    "import plotly.graph_objects as go\n",
    "from colorama import init, Fore, Style\n",
    "from statsmodels.tsa.filters.cf_filter import cffilter\n",
    "\n",
    "# Iniciando o colorama:\n",
    "init()"
   ]
  },
  {
   "cell_type": "code",
   "execution_count": 2,
   "metadata": {},
   "outputs": [],
   "source": [
    "def process_csv(file_path, column_name, date_column='date', delimiter=';'):\n",
    "    df = pd.read_csv(file_path, sep=delimiter)\n",
    "    df[column_name] = df[column_name].str.replace(',', '.').astype(float)\n",
    "    df[date_column] = pd.to_datetime(df[date_column])\n",
    "    df.set_index(date_column, inplace=True)\n",
    "    return df\n",
    "\n",
    "# Caminhos:\n",
    "household_sector_path = r'C:\\Users\\jonas\\OneDrive - MSFT\\Desktop\\Replicar CCI da S&P Rating\\Versão USA\\Dados\\Total Credit to Households.csv'\n",
    "private_sector_path = r'C:\\Users\\jonas\\OneDrive - MSFT\\Desktop\\Replicar CCI da S&P Rating\\Versão USA\\Dados\\Total Credit to Private.csv'\n",
    "real_residential_path = r'C:\\Users\\jonas\\OneDrive - MSFT\\Desktop\\Replicar CCI da S&P Rating\\Versão USA\\Dados\\Real Residential Property Prices.csv'\n",
    "real_sp500_path = r'C:\\Users\\jonas\\OneDrive - MSFT\\Desktop\\Replicar CCI da S&P Rating\\Versão USA\\Dados\\Real S&P 500.csv'\n",
    "fsi_path = r'C:\\Users\\jonas\\OneDrive - MSFT\\Desktop\\Replicar CCI da S&P Rating\\Versão USA\\Dados\\fsi st louis fed.xlsx'\n",
    "\n",
    "# Processando os CSVs:\n",
    "household_sector = process_csv(household_sector_path, 'credit_households')\n",
    "private_sector = process_csv(private_sector_path, 'credit_private')\n",
    "\n",
    "real_residential = process_csv(real_residential_path, 'real_residential')\n",
    "real_residential = real_residential.iloc[:-1]\n",
    "\n",
    "real_sp500 = process_csv(real_sp500_path, 'real_sp500')\n",
    "\n",
    "# Caso especial para o FSI:\n",
    "fsi = pd.read_excel(fsi_path)\n",
    "# fsi.drop(columns=['OFR FSI', 'Credit', 'Equity valuation', 'Safe assets',\n",
    "#                 'Funding', 'Volatility', 'Other advanced economies',\n",
    "#                 'Emerging markets'], inplace=True)\n",
    "\n",
    "fsi['date'] = pd.to_datetime(fsi['date'])\n",
    "fsi.set_index('date', inplace=True)"
   ]
  },
  {
   "cell_type": "markdown",
   "metadata": {},
   "source": [
    "##### Manipulação das Bases:"
   ]
  },
  {
   "cell_type": "markdown",
   "metadata": {},
   "source": [
    "Transformando as séries `real_sp500` e `fsi` de mensal/diario para trimestral:"
   ]
  },
  {
   "cell_type": "markdown",
   "metadata": {},
   "source": [
    "`fsi`"
   ]
  },
  {
   "cell_type": "code",
   "execution_count": 3,
   "metadata": {},
   "outputs": [
    {
     "data": {
      "text/html": [
       "<div>\n",
       "<style scoped>\n",
       "    .dataframe tbody tr th:only-of-type {\n",
       "        vertical-align: middle;\n",
       "    }\n",
       "\n",
       "    .dataframe tbody tr th {\n",
       "        vertical-align: top;\n",
       "    }\n",
       "\n",
       "    .dataframe thead th {\n",
       "        text-align: right;\n",
       "    }\n",
       "</style>\n",
       "<table border=\"1\" class=\"dataframe\">\n",
       "  <thead>\n",
       "    <tr style=\"text-align: right;\">\n",
       "      <th></th>\n",
       "      <th>fsi</th>\n",
       "    </tr>\n",
       "    <tr>\n",
       "      <th>date</th>\n",
       "      <th></th>\n",
       "    </tr>\n",
       "  </thead>\n",
       "  <tbody>\n",
       "    <tr>\n",
       "      <th>1994-01-01</th>\n",
       "      <td>-0.3099</td>\n",
       "    </tr>\n",
       "    <tr>\n",
       "      <th>1994-04-01</th>\n",
       "      <td>-0.2584</td>\n",
       "    </tr>\n",
       "    <tr>\n",
       "      <th>1994-07-01</th>\n",
       "      <td>-0.1222</td>\n",
       "    </tr>\n",
       "    <tr>\n",
       "      <th>1994-10-01</th>\n",
       "      <td>-0.2329</td>\n",
       "    </tr>\n",
       "    <tr>\n",
       "      <th>1995-01-01</th>\n",
       "      <td>-0.0519</td>\n",
       "    </tr>\n",
       "  </tbody>\n",
       "</table>\n",
       "</div>"
      ],
      "text/plain": [
       "               fsi\n",
       "date              \n",
       "1994-01-01 -0.3099\n",
       "1994-04-01 -0.2584\n",
       "1994-07-01 -0.1222\n",
       "1994-10-01 -0.2329\n",
       "1995-01-01 -0.0519"
      ]
     },
     "execution_count": 3,
     "metadata": {},
     "output_type": "execute_result"
    }
   ],
   "source": [
    "fsi_quarterly = fsi.resample('QE').last()\n",
    "fsi_quarterly.index = fsi_quarterly.index + pd.offsets.QuarterBegin(startingMonth=1)\n",
    "fsi_quarterly.head()"
   ]
  },
  {
   "cell_type": "markdown",
   "metadata": {},
   "source": [
    "`real_sp500`"
   ]
  },
  {
   "cell_type": "code",
   "execution_count": 4,
   "metadata": {},
   "outputs": [
    {
     "data": {
      "text/html": [
       "<div>\n",
       "<style scoped>\n",
       "    .dataframe tbody tr th:only-of-type {\n",
       "        vertical-align: middle;\n",
       "    }\n",
       "\n",
       "    .dataframe tbody tr th {\n",
       "        vertical-align: top;\n",
       "    }\n",
       "\n",
       "    .dataframe thead th {\n",
       "        text-align: right;\n",
       "    }\n",
       "</style>\n",
       "<table border=\"1\" class=\"dataframe\">\n",
       "  <thead>\n",
       "    <tr style=\"text-align: right;\">\n",
       "      <th></th>\n",
       "      <th>real_sp500</th>\n",
       "    </tr>\n",
       "    <tr>\n",
       "      <th>date</th>\n",
       "      <th></th>\n",
       "    </tr>\n",
       "  </thead>\n",
       "  <tbody>\n",
       "    <tr>\n",
       "      <th>1948-01-01</th>\n",
       "      <td>15.03</td>\n",
       "    </tr>\n",
       "    <tr>\n",
       "      <th>1948-04-01</th>\n",
       "      <td>14.30</td>\n",
       "    </tr>\n",
       "    <tr>\n",
       "      <th>1948-07-01</th>\n",
       "      <td>16.82</td>\n",
       "    </tr>\n",
       "    <tr>\n",
       "      <th>1948-10-01</th>\n",
       "      <td>15.76</td>\n",
       "    </tr>\n",
       "    <tr>\n",
       "      <th>1949-01-01</th>\n",
       "      <td>15.19</td>\n",
       "    </tr>\n",
       "  </tbody>\n",
       "</table>\n",
       "</div>"
      ],
      "text/plain": [
       "            real_sp500\n",
       "date                  \n",
       "1948-01-01       15.03\n",
       "1948-04-01       14.30\n",
       "1948-07-01       16.82\n",
       "1948-10-01       15.76\n",
       "1949-01-01       15.19"
      ]
     },
     "execution_count": 4,
     "metadata": {},
     "output_type": "execute_result"
    }
   ],
   "source": [
    "real_sp500_quarterly = real_sp500.resample('QE').last()\n",
    "real_sp500_quarterly.index = real_sp500_quarterly.index + pd.offsets.QuarterBegin(startingMonth=1)\n",
    "real_sp500_quarterly.head()"
   ]
  },
  {
   "cell_type": "markdown",
   "metadata": {},
   "source": [
    "##### Tratamentos e Transformações de Dados: Statistical Filter"
   ]
  },
  {
   "cell_type": "markdown",
   "metadata": {},
   "source": [
    "O Filtro Band Pass de Christiano-Fitzgerald é projetado para isolar componentes específicos de frequência em uma série temporal, permitindo a análise de flutuações dentro de faixas de frequência designadas. Este filtro é particularmente útil na análise macroeconômica, onde entender as dinâmicas dos ciclos econômicos e tendências de longo prazo é essencial.\n",
    "\n",
    "**Visão Geral do Filtro Passa-Faixa**\n",
    "\n",
    "O filtro Band Pass, em sua forma ideal, isola o componente de uma série temporal que se encontra dentro de uma faixa específica de frequências. No entanto, aplicar o filtro ideal requer uma quantidade infinita de dados, o que é impraticável. Portanto, Christiano e Fitzgerald desenvolveram uma aproximação ótima para conjuntos de dados finitos.\n",
    "\n",
    "**Componentes do Filtro**\n",
    "\n",
    "1. **Filtro Band Pass Ideal**:\n",
    "    - O filtro Band Pass ideal, \\( B(L) \\), é definido matematicamente para isolar frequências entre \\( a \\) e \\( b \\) (onde \\( 0 < a \\leq b \\leq \\pi \\)).\n",
    "    - O filtro é representado como:\n",
    "      $$\n",
    "      y_t = B(L)x_t = \\sum_{j=-\\infty}^{\\infty} B_j L^j x_t\n",
    "      $$\n",
    "    - Os coeficientes \\( B_j \\) são dados por:\n",
    "      $$\n",
    "      B_j = \\frac{\\sin(jb) - \\sin(ja)}{\\pi j}, \\quad j \\neq 0\n",
    "      $$\n",
    "      $$\n",
    "      B_0 = \\frac{b - a}{\\pi}\n",
    "      $$\n",
    "    - Esta estrutura garante que o filtro retenha os componentes de frequência entre \\( a \\) e \\( b \\), eliminando outros.\n",
    "\n",
    "2. **Dados Finitos e Aproximação**:\n",
    "    - Dada a impraticabilidade de dados infinitos, Christiano e Fitzgerald derivam uma aproximação usando dados finitos.\n",
    "    - A aproximação envolve projetar o filtro ideal nos dados disponíveis, otimizando a projeção para minimizar o erro quadrático médio:\n",
    "      $$\n",
    "      E \\left[(y_t - \\hat{y}_t)^2 \\mid x\\right]\n",
    "      $$\n",
    "    - Os pesos do filtro \\( \\hat{B}_j \\) são calculados para fazer \\( \\hat{y}_t \\) o mais próximo possível do ideal \\( y_t \\).\n",
    "\n",
    "**Implementação do Filtro**\n",
    "\n",
    "1. **Assunção de Caminhada Aleatória**:\n",
    "    - Christiano e Fitzgerald propõem uma abordagem simplificada assumindo que os dados seguem uma caminhada aleatória:\n",
    "      $$\n",
    "      x_t = x_{t-1} + \\epsilon_t\n",
    "      $$\n",
    "    - Essa assunção permite um cálculo direto dos pesos do filtro.\n",
    "\n",
    "2. **Pesos Ótimos**:\n",
    "    - Para um determinado período \\( t \\), o filtro é calculado como:\n",
    "      $$\n",
    "      \\hat{y}_t = B_0 x_t + B_1 x_{t+1} + \\dots + B_{T-1-t} x_{T-1} + \\tilde{B}_{T-t} x_T + B_1 x_{t-1} + \\dots + B_{t-2} x_2 + \\tilde{B}_{t-1} x_1\n",
    "      $$\n",
    "    - Onde:\n",
    "      $$\n",
    "      \\tilde{B}_{T-t} = -\\frac{1}{2}B_0 - \\sum_{j=1}^{T-t-1} B_j\n",
    "      $$\n",
    "      $$\n",
    "      \\tilde{B}_{t-1} = -\\frac{1}{2}B_0 - \\sum_{j=1}^{t-2} B_j\n",
    "      $$\n",
    "\n",
    "**Aplicação Empírica**\n",
    "\n",
    "1. **Curva de Phillips e Relação Dinheiro-Inflação**:\n",
    "    - O filtro é aplicado para analisar mudanças na curva de Phillips e na relação dinheiro-inflação antes e depois da década de 1960.\n",
    "    - Os resultados indicam pouca mudança na curva de Phillips, mas mudanças substanciais na relação dinheiro-inflação.\n",
    "\n",
    "2. **Estimativas em Tempo Real**:\n",
    "    - O filtro fornece estimativas em tempo real úteis para a política de estabilização macroeconômica, como determinar se as mudanças na produção fazem parte de uma tendência ou são mais transitórias.\n",
    "\n",
    "**Vantagens e Limitações**\n",
    "\n",
    "1. **Vantagens**:\n",
    "    - Não requer comprometimento com um modelo estatístico específico dos dados.\n",
    "    - Aproximações ótimas são derivadas usando as propriedades espectrais dos dados.\n",
    "    - Eficaz para séries temporais macroeconômicas padrão.\n",
    "\n",
    "2. **Limitações**:\n",
    "    - A otimalidade é alcançada para representações específicas de séries temporais; pode não funcionar bem para todos os tipos de dados.\n",
    "    - Assume ausência de tendência na caminhada aleatória; requer ajuste de tendência para dados brutos com tendência."
   ]
  },
  {
   "cell_type": "markdown",
   "metadata": {},
   "source": [
    "Dado a explicação acima, iremos aplicar o filtro de `Christiano-Fitzgerald` com periodicidade entre `6 e 40 trimestres`, e assim obter o componente de `Ciclo de 1,5 a 10 anos` para cada série:"
   ]
  },
  {
   "cell_type": "code",
   "execution_count": 5,
   "metadata": {},
   "outputs": [
    {
     "name": "stdout",
     "output_type": "stream",
     "text": [
      "            household   private  residential    equity       fsi\n",
      "date                                                            \n",
      "2022-07-01   0.264818  0.078744     0.040085 -0.024104 -0.015917\n",
      "2022-10-01  -0.130288 -0.834263     0.024948 -0.093220 -0.024316\n",
      "2023-01-01  -0.634170 -2.045970     0.014206 -0.125833 -0.018515\n",
      "2023-04-01  -1.163715 -3.248388     0.010644 -0.118506 -0.004851\n",
      "2023-07-01  -1.557826 -4.105199     0.012664 -0.083655  0.010266\n",
      "2023-10-01  -1.684159 -4.422648     0.016023 -0.039706  0.021788\n",
      "2024-01-01        NaN       NaN          NaN -0.000639  0.027051\n",
      "2024-04-01        NaN       NaN          NaN  0.028346  0.026311\n",
      "2024-07-01        NaN       NaN          NaN  0.047967  0.022074\n",
      "2024-10-01        NaN       NaN          NaN  0.059449  0.017185\n"
     ]
    }
   ],
   "source": [
    "def get_cycles(series_dict, low=6, high=40):\n",
    "    \"\"\"\n",
    "    Obtém os componentes de ciclo para uma lista de séries temporais.\n",
    "\n",
    "    Parameters:\n",
    "    series_dict (dict): Dicionário onde a chave é o nome da série e o valor é a série temporal (pandas Series).\n",
    "    low (int): Período baixo do filtro para obter os ciclos.\n",
    "    high (int): Período alto do filtro para obter os ciclos.\n",
    "\n",
    "    Returns:\n",
    "    pd.DataFrame: DataFrame contendo os componentes de ciclo de cada série.\n",
    "    \"\"\"\n",
    "\n",
    "    cycles = {}\n",
    "    for name, series in series_dict.items():\n",
    "        cycle, trend = cffilter(series, low=low, high=high)\n",
    "        cycles[name] = cycle\n",
    "    return pd.DataFrame(cycles)\n",
    "\n",
    "# Aqui já será incluida as transformações necessárias para cada série:\n",
    "series_dict = {\n",
    "    # Não há nenhuma Transformação:\n",
    "    'household': household_sector['credit_households'],\n",
    "    'private': private_sector['credit_private'],\n",
    "    \n",
    "    # Transformação 'Logaritmo Natural':\n",
    "    'residential': np.log(real_residential['real_residential']),\n",
    "    'equity': np.log(real_sp500_quarterly),\n",
    "    \n",
    "    # Transformação 'Negativo do logaritmo natural':\n",
    "    # Aqui foi preciso alterar a escala da série, pois ela usa números índices, e \n",
    "    # usar tanto o ln quanto o -ln ocorrera um erro devido a valores negativos.\n",
    "    # A escala utilizada foi a seguinte: (x*1)+10.\n",
    "    'fsi': -np.log((fsi_quarterly - fsi_quarterly.mean() / fsi_quarterly.std())*1+10)\n",
    "}\n",
    "\n",
    "cycles = get_cycles(series_dict)\n",
    "print(cycles.tail(10))"
   ]
  },
  {
   "cell_type": "code",
   "execution_count": 602,
   "metadata": {},
   "outputs": [],
   "source": [
    "cycles.to_excel('cycles2.xlsx')"
   ]
  },
  {
   "cell_type": "markdown",
   "metadata": {},
   "source": [
    "**Analisando os Componentes do Filtro de Christiano-Fitzgerald para qualquer série:**"
   ]
  },
  {
   "cell_type": "code",
   "execution_count": 400,
   "metadata": {},
   "outputs": [
    {
     "data": {
      "image/png": "[encoded data removed]",
      "text/plain": [
       "<Figure size 1200x200 with 1 Axes>"
      ]
     },
     "metadata": {},
     "output_type": "display_data"
    },
    {
     "data": {
      "image/png": "[encoded data removed]",
      "text/plain": [
       "<Figure size 1200x200 with 1 Axes>"
      ]
     },
     "metadata": {},
     "output_type": "display_data"
    }
   ],
   "source": [
    "def analyze_series(series):\n",
    "    # Converter o índice datetime para numérico (dias desde o início):\n",
    "    numeric_index = (series.index - series.index[0]).days\n",
    "\n",
    "    # Calculando a linha de tendência linear (drift):\n",
    "    coefficients = np.polyfit(numeric_index, series, 1)\n",
    "    linear_trend = np.polyval(coefficients, numeric_index)\n",
    "\n",
    "    # Ajustar a linha de tendência para começar no valor inicial dos dados:\n",
    "    linear_trend = linear_trend - (linear_trend[0] - series.iloc[0])\n",
    "\n",
    "    # Filtro para ciclos mais longos que 10 anos - especificamos um limite inferior alto para capturar apenas os ciclos muito longos:\n",
    "    cf_filter_long = cffilter(series, low=40, high=np.inf)\n",
    "\n",
    "    # Filtro para ruído e sazonalidade (ciclos menores que 5 trimestres) - capturamos apenas os componentes de alta frequência:\n",
    "    cf_filter_noise = cffilter(series, low=2, high=5)\n",
    "\n",
    "    # Entrada CCI (ciclos entre 1.5 e 10 anos) - capturamos os ciclos de curto a médio prazo:\n",
    "    cf_filter_cci = cffilter(series, low=6, high=40)\n",
    "\n",
    "    # Plotar todos os componentes:\n",
    "    plt.figure(figsize=(12, 2))\n",
    "    plt.plot(series, label='Raw data', color='#559cc3')\n",
    "    plt.plot(series.index, linear_trend, label='Uptrend (drift)', color='#002b5f')\n",
    "    plt.plot(cf_filter_long[0], label='All cycles longer than 10 years', color='#ffac17')\n",
    "    plt.legend(loc='upper center', bbox_to_anchor=(0.5, 1.25), ncol=3)\n",
    "    plt.show()\n",
    "\n",
    "    plt.figure(figsize=(12, 2))\n",
    "    plt.plot(cf_filter_noise[0], label='Noise and seasonality (all cycles shorter than 5 quarters)', color='#4b2514')\n",
    "    plt.plot(cf_filter_cci[0], label='Short - Medium Cycle (1.5 to 10 years)', color='#de8ca5')\n",
    "    plt.legend(loc='upper center', bbox_to_anchor=(0.5, 1.25), ncol=2)\n",
    "    plt.show()\n",
    "\n",
    "analyze_series(real_residential['real_residential'])"
   ]
  },
  {
   "cell_type": "markdown",
   "metadata": {},
   "source": [
    "##### Tratamentos e Transformações de Dados: Further Specifics"
   ]
  },
  {
   "cell_type": "markdown",
   "metadata": {},
   "source": [
    "Depois de transformar e filtrar cada entrada, as séries temporais resultantes são todas dimensionadas para uma média 0 e \n",
    "desvio padrão de 1, para garantir que todos tenham unidades comparáveis."
   ]
  },
  {
   "cell_type": "code",
   "execution_count": 6,
   "metadata": {},
   "outputs": [
    {
     "data": {
      "text/html": [
       "<div>\n",
       "<style scoped>\n",
       "    .dataframe tbody tr th:only-of-type {\n",
       "        vertical-align: middle;\n",
       "    }\n",
       "\n",
       "    .dataframe tbody tr th {\n",
       "        vertical-align: top;\n",
       "    }\n",
       "\n",
       "    .dataframe thead th {\n",
       "        text-align: right;\n",
       "    }\n",
       "</style>\n",
       "<table border=\"1\" class=\"dataframe\">\n",
       "  <thead>\n",
       "    <tr style=\"text-align: right;\">\n",
       "      <th></th>\n",
       "      <th>household</th>\n",
       "      <th>private</th>\n",
       "      <th>residential</th>\n",
       "      <th>equity</th>\n",
       "      <th>fsi</th>\n",
       "    </tr>\n",
       "    <tr>\n",
       "      <th>date</th>\n",
       "      <th></th>\n",
       "      <th></th>\n",
       "      <th></th>\n",
       "      <th></th>\n",
       "      <th></th>\n",
       "    </tr>\n",
       "  </thead>\n",
       "  <tbody>\n",
       "    <tr>\n",
       "      <th>1947-10-01</th>\n",
       "      <td>-0.700945</td>\n",
       "      <td>-0.520153</td>\n",
       "      <td>NaN</td>\n",
       "      <td>NaN</td>\n",
       "      <td>NaN</td>\n",
       "    </tr>\n",
       "    <tr>\n",
       "      <th>1948-01-01</th>\n",
       "      <td>-0.689629</td>\n",
       "      <td>-0.524998</td>\n",
       "      <td>NaN</td>\n",
       "      <td>0.349380</td>\n",
       "      <td>NaN</td>\n",
       "    </tr>\n",
       "    <tr>\n",
       "      <th>1948-04-01</th>\n",
       "      <td>-0.660569</td>\n",
       "      <td>-0.563561</td>\n",
       "      <td>NaN</td>\n",
       "      <td>0.514875</td>\n",
       "      <td>NaN</td>\n",
       "    </tr>\n",
       "    <tr>\n",
       "      <th>1948-07-01</th>\n",
       "      <td>-0.605318</td>\n",
       "      <td>-0.617764</td>\n",
       "      <td>NaN</td>\n",
       "      <td>0.457769</td>\n",
       "      <td>NaN</td>\n",
       "    </tr>\n",
       "    <tr>\n",
       "      <th>1948-10-01</th>\n",
       "      <td>-0.491877</td>\n",
       "      <td>-0.621951</td>\n",
       "      <td>NaN</td>\n",
       "      <td>0.127302</td>\n",
       "      <td>NaN</td>\n",
       "    </tr>\n",
       "    <tr>\n",
       "      <th>1949-01-01</th>\n",
       "      <td>-0.268463</td>\n",
       "      <td>-0.485825</td>\n",
       "      <td>NaN</td>\n",
       "      <td>-0.353090</td>\n",
       "      <td>NaN</td>\n",
       "    </tr>\n",
       "    <tr>\n",
       "      <th>1949-04-01</th>\n",
       "      <td>0.116972</td>\n",
       "      <td>-0.141955</td>\n",
       "      <td>NaN</td>\n",
       "      <td>-0.766629</td>\n",
       "      <td>NaN</td>\n",
       "    </tr>\n",
       "    <tr>\n",
       "      <th>1949-07-01</th>\n",
       "      <td>0.681978</td>\n",
       "      <td>0.405887</td>\n",
       "      <td>NaN</td>\n",
       "      <td>-0.940963</td>\n",
       "      <td>NaN</td>\n",
       "    </tr>\n",
       "    <tr>\n",
       "      <th>1949-10-01</th>\n",
       "      <td>1.372252</td>\n",
       "      <td>1.060826</td>\n",
       "      <td>NaN</td>\n",
       "      <td>-0.837486</td>\n",
       "      <td>NaN</td>\n",
       "    </tr>\n",
       "    <tr>\n",
       "      <th>1950-01-01</th>\n",
       "      <td>2.046561</td>\n",
       "      <td>1.653537</td>\n",
       "      <td>NaN</td>\n",
       "      <td>-0.539497</td>\n",
       "      <td>NaN</td>\n",
       "    </tr>\n",
       "  </tbody>\n",
       "</table>\n",
       "</div>"
      ],
      "text/plain": [
       "            household   private  residential    equity  fsi\n",
       "date                                                       \n",
       "1947-10-01  -0.700945 -0.520153          NaN       NaN  NaN\n",
       "1948-01-01  -0.689629 -0.524998          NaN  0.349380  NaN\n",
       "1948-04-01  -0.660569 -0.563561          NaN  0.514875  NaN\n",
       "1948-07-01  -0.605318 -0.617764          NaN  0.457769  NaN\n",
       "1948-10-01  -0.491877 -0.621951          NaN  0.127302  NaN\n",
       "1949-01-01  -0.268463 -0.485825          NaN -0.353090  NaN\n",
       "1949-04-01   0.116972 -0.141955          NaN -0.766629  NaN\n",
       "1949-07-01   0.681978  0.405887          NaN -0.940963  NaN\n",
       "1949-10-01   1.372252  1.060826          NaN -0.837486  NaN\n",
       "1950-01-01   2.046561  1.653537          NaN -0.539497  NaN"
      ]
     },
     "execution_count": 6,
     "metadata": {},
     "output_type": "execute_result"
    }
   ],
   "source": [
    "zscore = cycles.apply(lambda x:\n",
    "                    (x-x.mean())/x.std(), axis=0)\n",
    "\n",
    "zscore.head(10)"
   ]
  },
  {
   "cell_type": "markdown",
   "metadata": {},
   "source": [
    "##### Weighted Sum And Final Standardization"
   ]
  },
  {
   "cell_type": "markdown",
   "metadata": {},
   "source": [
    "Em seguida, pegamos todos os cinco dados e calculamos o ICC com os seus valores igualmente iguais utilizando `Soma Ponderada`. Este cálculo só é feito a partir do período em que todas as cinco entradas \n",
    "estão disponíveis - ou seja, o histórico máximo disponível para qualquer CCI começa no primeiro trimestre de 1995, quando o FSI começa. Os subindicadores para famílias (Household) e empresas (Private) também são calculados como a média de entradas relevantes de crédito filtrado e preços de ativos."
   ]
  },
  {
   "cell_type": "markdown",
   "metadata": {},
   "source": [
    "A soma ponderada é calculada usando a seguinte fórmula:\n",
    "\n",
    "\\begin{equation}\n",
    "\\text{CCI}_t = \\sum_{i=1}^{n} w_i \\times C_{i,t}\n",
    "\\end{equation}\n",
    "\n",
    "Onde:\n",
    "* $\\text{CCI}_t$ é o valor do Credit Cycle Indicator no tempo $t$.\n",
    "* $C_{i,t}$ é o ciclo $i$ no tempo $t$.\n",
    "* $w_i$ é o peso atribuído ao ciclo $i$.\n",
    "* $n$ é o número total de ciclos (séries).\n",
    "\n",
    "Os pesos são geralmente escolhidos com base em análise empírica ou julgamento especializado para refletir a importância relativa de cada componente.\n",
    "\n",
    "Após calcular a soma ponderada, ela é padronizada para ter média zero e desvio padrão um. A padronização é realizada usando a fórmula:\n",
    "\n",
    "\\begin{equation}\n",
    "\\text{CCI}_{\\text{final}} = \\frac{\\text{CCI} - \\mu}{\\sigma}\n",
    "\\end{equation}\n",
    "\n",
    "Onde:\n",
    "* $\\mu$ é a média da soma ponderada.\n",
    "* $\\sigma$ é o desvio padrão da soma ponderada."
   ]
  },
  {
   "cell_type": "markdown",
   "metadata": {},
   "source": [
    "O ICC do país e os subindicadores também são escalonados, para garantir que todos tenham uma média \n",
    "0 e desvio padrão 1. Como tal, todos os CCIs estão em unidades de desvio padrão distantes de \n",
    "média histórica"
   ]
  },
  {
   "cell_type": "code",
   "execution_count": 7,
   "metadata": {},
   "outputs": [],
   "source": [
    "def weighted_sum_and_standardize(cycles_dict, weights, start_period='1995Q1'):\n",
    "    \"\"\"\n",
    "    Calcula a soma ponderada das séries de ciclos e padroniza o resultado final,\n",
    "    começando do período em que todos os dados estão disponíveis.\n",
    "\n",
    "    Parameters:\n",
    "    cycles_dict (dict): Dicionário onde a chave é o nome da série e o valor é a série temporal filtrada (ciclo).\n",
    "    weights (dict): Dicionário onde a chave é o nome da série e o valor é o peso atribuído a ela.\n",
    "    start_period (str): Período inicial para cálculo, formato 'YYYYQX'.\n",
    "\n",
    "    Returns:\n",
    "    pd.Series: Série padronizada representando o Credit Cycle Indicator (CCI).\n",
    "    \"\"\"\n",
    "    # Truncar a série para começar no período especificado:\n",
    "    truncated_cycles = {name: cycles.loc[start_period:] for name, cycles in cycles_dict.items()}\n",
    "\n",
    "    # Calcula a soma ponderada das séries de ciclos:\n",
    "    weighted_sum = sum(weights[name] * cycles for name, cycles in truncated_cycles.items())\n",
    "\n",
    "    # Padroniza a soma ponderada:\n",
    "    cci = (weighted_sum - weighted_sum.mean()) / weighted_sum.std()\n",
    "    return cci\n",
    "\n",
    "def calculate_sub_indicators(cycles_dict, start_period='1995Q1'):\n",
    "    \"\"\"\n",
    "    Calcula os sub-indicadores para domicílios e empresas.\n",
    "\n",
    "    Parameters:\n",
    "    cycles_dict (dict): Dicionário onde a chave é o nome da série e o valor é a série temporal filtrada (ciclo).\n",
    "    start_period (str): Período inicial para cálculo, formato 'YYYYQX'.\n",
    "\n",
    "    Returns:\n",
    "    dict: Dicionário contendo os sub-indicadores padronizados.\n",
    "    \"\"\"\n",
    "    # Trunca as séries para começar do período especificado\n",
    "    truncated_cycles = {name: cycles.loc[start_period:] for name, cycles in cycles_dict.items()}\n",
    "\n",
    "    # Calcula o sub-indicador para domicílios (média dos componentes relevantes)\n",
    "    household_sub_indicator = (truncated_cycles['household'] + truncated_cycles['residential']) / 2\n",
    "\n",
    "    # Calcula o sub-indicador para empresas (média dos componentes relevantes)\n",
    "    corporate_sub_indicator = (truncated_cycles['private'] + truncated_cycles['equity']) / 2\n",
    "\n",
    "    # FSI já está truncado e não precisa de cálculos adicionais\n",
    "    fsi_sub_indicator = truncated_cycles['fsi']\n",
    "\n",
    "    # Padroniza os sub-indicadores\n",
    "    household_sub_indicator = (household_sub_indicator - household_sub_indicator.mean()) / household_sub_indicator.std()\n",
    "    corporate_sub_indicator = (corporate_sub_indicator - corporate_sub_indicator.mean()) / corporate_sub_indicator.std()\n",
    "    fsi_sub_indicator = (fsi_sub_indicator - fsi_sub_indicator.mean()) / fsi_sub_indicator.std()\n",
    "\n",
    "    return {\n",
    "        'household_sub_indicator': household_sub_indicator,\n",
    "        'corporate_sub_indicator': corporate_sub_indicator,\n",
    "        'fsi_sub_indicator': fsi_sub_indicator\n",
    "    }\n",
    "\n",
    "# Dicionário de ciclos:\n",
    "cycles_dict = {\n",
    "    'household': zscore['household'],\n",
    "    'private': zscore['private'],\n",
    "    'residential': zscore['residential'],\n",
    "    'equity': zscore['equity'],\n",
    "    'fsi': zscore['fsi']\n",
    "}\n",
    "\n",
    "# Dicionário de pesos:\n",
    "weights = {\n",
    "    'household': 0.20,\n",
    "    'private': 0.20,\n",
    "    'residential': 0.20,\n",
    "    'equity': 0.20,\n",
    "    'fsi': 0.20\n",
    "}"
   ]
  },
  {
   "cell_type": "markdown",
   "metadata": {},
   "source": [
    "Calcular o Credit Cycle Indicator (CCI):"
   ]
  },
  {
   "cell_type": "code",
   "execution_count": 8,
   "metadata": {},
   "outputs": [
    {
     "name": "stdout",
     "output_type": "stream",
     "text": [
      "Credit Cycle Indicator (CCI):\n",
      "date\n",
      "1994-10-01   -0.832767\n",
      "1995-01-01   -0.732539\n",
      "1995-04-01   -0.463623\n",
      "1995-07-01   -0.108823\n",
      "1995-10-01    0.199159\n",
      "1996-01-01    0.358289\n",
      "1996-04-01    0.355071\n",
      "1996-07-01    0.260389\n",
      "1996-10-01    0.172059\n",
      "1997-01-01    0.151977\n",
      "Freq: QS-OCT, dtype: float64\n"
     ]
    }
   ],
   "source": [
    "cci = weighted_sum_and_standardize(cycles_dict, weights, start_period='1995Q1')\n",
    "\n",
    "print(Fore.CYAN + Style.BRIGHT + 'Credit Cycle Indicator (CCI):' + Style.RESET_ALL)\n",
    "print(cci.head(10))"
   ]
  },
  {
   "cell_type": "markdown",
   "metadata": {},
   "source": [
    "Calcular os sub-indicadores:"
   ]
  },
  {
   "cell_type": "code",
   "execution_count": 9,
   "metadata": {},
   "outputs": [
    {
     "name": "stdout",
     "output_type": "stream",
     "text": [
      "Household Sub-Indicator:\n",
      "date\n",
      "1994-10-01   -0.597020\n",
      "1995-01-01   -0.401546\n",
      "1995-04-01   -0.114606\n",
      "1995-07-01    0.213247\n",
      "1995-10-01    0.519425\n",
      "Freq: QS-OCT, dtype: float64\n",
      "\n",
      "Corporate Sub-Indicator:\n",
      "date\n",
      "1994-10-01   -0.959310\n",
      "1995-01-01   -0.996527\n",
      "1995-04-01   -0.818238\n",
      "1995-07-01   -0.500063\n",
      "1995-10-01   -0.202011\n",
      "Freq: QS-OCT, dtype: float64\n",
      "\n",
      "FSI Sub-Indicator:\n",
      "date\n",
      "1994-10-01   -0.211250\n",
      "1995-01-01   -0.106060\n",
      "1995-04-01    0.049611\n",
      "1995-07-01    0.182964\n",
      "1995-10-01    0.220105\n",
      "Freq: QS-OCT, Name: fsi, dtype: float64\n"
     ]
    }
   ],
   "source": [
    "sub_indicators = calculate_sub_indicators(cycles_dict, start_period='1995Q1')\n",
    "\n",
    "print('Household Sub-Indicator:')\n",
    "print(sub_indicators['household_sub_indicator'].head())\n",
    "print('')\n",
    "print('Corporate Sub-Indicator:')\n",
    "print(sub_indicators['corporate_sub_indicator'].head())\n",
    "print('')\n",
    "print('FSI Sub-Indicator:')\n",
    "print(sub_indicators['fsi_sub_indicator'].head())"
   ]
  },
  {
   "cell_type": "markdown",
   "metadata": {},
   "source": [
    "Gráfico de comparação dos indicadores:"
   ]
  },
  {
   "cell_type": "code",
   "execution_count": 19,
   "metadata": {},
   "outputs": [
    {
     "data": {
      "image/png": "[encoded data removed]",
      "text/plain": [
       "<Figure size 1800x360 with 1 Axes>"
      ]
     },
     "metadata": {},
     "output_type": "display_data"
    }
   ],
   "source": [
    "sns.set_theme(style=\"darkgrid\")\n",
    "plt.figure(figsize=(18, 3.6))\n",
    "\n",
    "# Plotando as séries temporais:\n",
    "plt.plot(cci, label='CCI', color='#559cc3', linewidth=2.5)\n",
    "plt.plot(sub_indicators['household_sub_indicator'], label='household_sub_indicator', color='#002b5f', linestyle='--', linewidth=2.5)\n",
    "plt.plot(sub_indicators['corporate_sub_indicator'], label='corporate_sub_indicator', color='#ffac17', linestyle='--', linewidth=2.5)\n",
    "plt.plot(sub_indicators['fsi_sub_indicator'], label='fsi_sub_indicator', color='#4b2514', linestyle='--', linewidth=2.5)\n",
    "\n",
    "# Ajuste o formato das datas no eixo x para ano/mês:\n",
    "ax = plt.gca()\n",
    "ax.xaxis.set_major_locator(mdates.MonthLocator(interval=15))\n",
    "ax.xaxis.set_major_formatter(mdates.DateFormatter('%Y'))\n",
    "\n",
    "plt.title('Country-Level CCI And Its Sub-Indicators: U.S. Example', fontsize=16, pad=40)\n",
    "plt.legend(loc='upper center', bbox_to_anchor=(0.5, 1.15), ncol=4)\n",
    "plt.show()"
   ]
  },
  {
   "cell_type": "code",
   "execution_count": null,
   "metadata": {},
   "outputs": [],
   "source": [
    "# Add data\n",
    "month = ['January', 'February', 'March', 'April', 'May', 'June', 'July',\n",
    "            'August', 'September', 'October', 'November', 'December']\n",
    "high_2000 = [32.5, 37.6, 49.9, 53.0, 69.1, 75.4, 76.5, 76.6, 70.7, 60.6, 45.1, 29.3]\n",
    "low_2000 = [13.8, 22.3, 32.5, 37.2, 49.9, 56.1, 57.7, 58.3, 51.2, 42.8, 31.6, 15.9]\n",
    "high_2007 = [36.5, 26.6, 43.6, 52.3, 71.5, 81.4, 80.5, 82.2, 76.0, 67.3, 46.1, 35.0]\n",
    "low_2007 = [23.6, 14.0, 27.0, 36.8, 47.6, 57.7, 58.9, 61.2, 53.3, 48.5, 31.0, 23.6]\n",
    "high_2014 = [28.8, 28.5, 37.0, 56.8, 69.7, 79.7, 78.5, 77.8, 74.1, 62.6, 45.3, 39.9]\n",
    "low_2014 = [12.7, 14.3, 18.6, 35.5, 49.9, 58.0, 60.0, 58.6, 51.7, 45.2, 32.2, 29.1]\n",
    "\n",
    "fig = go.Figure()\n",
    "# Create and style traces\n",
    "fig.add_trace(go.Scatter(x=month, y=high_2014, name='High 2014',\n",
    "                            line=dict(color='firebrick', width=4)))\n",
    "fig.add_trace(go.Scatter(x=month, y=low_2014, name = 'Low 2014',\n",
    "                            line=dict(color='royalblue', width=4)))\n",
    "fig.add_trace(go.Scatter(x=month, y=high_2007, name='High 2007',\n",
    "                            line=dict(color='firebrick', width=4,\n",
    "                                dash='dash') # dash options include 'dash', 'dot', and 'dashdot'\n",
    "))\n",
    "fig.add_trace(go.Scatter(x=month, y=low_2007, name='Low 2007',\n",
    "                            line = dict(color='royalblue', width=4, dash='dash')))\n",
    "fig.add_trace(go.Scatter(x=month, y=high_2000, name='High 2000',\n",
    "                            line = dict(color='firebrick', width=4, dash='dot')))\n",
    "fig.add_trace(go.Scatter(x=month, y=low_2000, name='Low 2000',\n",
    "                            line=dict(color='royalblue', width=4, dash='dot')))\n",
    "\n",
    "# Edit the layout\n",
    "fig.update_layout(title='Average High and Low Temperatures in New York',\n",
    "                    xaxis_title='Month',\n",
    "                    yaxis_title='Temperature (degrees F)')\n",
    "\n",
    "fig.show()"
   ]
  },
  {
   "cell_type": "markdown",
   "metadata": {},
   "source": [
    "Calculando o CCI Global ou Regional:"
   ]
  },
  {
   "cell_type": "markdown",
   "metadata": {},
   "source": [
    "O CCI regional ou global é calculado como a média dos CCIs de países disponíveis, começando do período em que todos os dados estão disponíveis (por exemplo, Q1 1995). Se o CCI de um país não estiver disponível em um determinado período, a média dos CCIs restantes é usada. A série resultante é então padronizada para ter média zero e desvio padrão um.\n",
    "\n",
    "A fórmula para calcular o CCI regional é:\n",
    "\n",
    "\\begin{equation}\n",
    "\\text{CCI}_{\\text{regional}} = \\frac{\\text{CCI} - \\mu_{\\text{regional}}}{\\sigma_{\\text{regional}}}\n",
    "\\end{equation}\n",
    "\n",
    "Onde:\n",
    "* $\\text{CCI}$ é a média dos CCIs disponíveis em cada período.\n",
    "* $\\mu_{\\text{regional}}$ é a média da série regional.\n",
    "* $\\sigma_{\\text{regional}}$ é o desvio padrão da série regional."
   ]
  },
  {
   "cell_type": "code",
   "execution_count": null,
   "metadata": {},
   "outputs": [],
   "source": [
    "def calculate_regional_cci(country_ccis, start_period='1995Q1'):\n",
    "    \"\"\"\n",
    "    Calcula o CCI regional ou global como a média dos CCIs de países disponíveis, e rescale a série.\n",
    "\n",
    "    Parameters:\n",
    "    country_ccis (dict): Dicionário onde a chave é o nome do país e o valor é a série temporal do CCI do país.\n",
    "    start_period (str): Período inicial para cálculo, formato 'YYYYQX'.\n",
    "\n",
    "    Returns:\n",
    "    pd.Series: Série padronizada representando o CCI regional ou global.\n",
    "    \"\"\"\n",
    "    # Trunca as séries para começar do período especificado\n",
    "    truncated_ccis = {name: cci.loc[start_period:] for name, cci in country_ccis.items()}\n",
    "    \n",
    "    # Cria um DataFrame com todas as séries truncadas\n",
    "    df_ccis = pd.DataFrame(truncated_ccis)\n",
    "    \n",
    "    # Calcula a média dos CCIs disponíveis em cada período\n",
    "    regional_cci = df_ccis.mean(axis=1)\n",
    "    \n",
    "    # Padroniza a série regional\n",
    "    regional_cci = (regional_cci - regional_cci.mean()) / regional_cci.std()\n",
    "    \n",
    "    return regional_cci\n",
    "\n",
    "# Exemplo de uso\n",
    "# Supomos que você já tenha os CCIs calculados para diferentes países:\n",
    "us_cci = pd.Series(...)   # CCI dos EUA\n",
    "uk_cci = pd.Series(...)   # CCI do Reino Unido\n",
    "de_cci = pd.Series(...)   # CCI da Alemanha\n",
    "fr_cci = pd.Series(...)   # CCI da França\n",
    "\n",
    "# Dicionário de CCIs dos países\n",
    "country_ccis = {\n",
    "    'US': us_cci,\n",
    "    'UK': uk_cci,\n",
    "    'DE': de_cci,\n",
    "    'FR': fr_cci\n",
    "}\n",
    "\n",
    "# Calcula o CCI regional\n",
    "regional_cci = calculate_regional_cci(country_ccis, start_period='1995Q1')\n",
    "print(regional_cci.head())"
   ]
  },
  {
   "cell_type": "markdown",
   "metadata": {},
   "source": [
    "### Testes e Resultados\n",
    "\n",
    "Testes mostraram que os picos do CCI geralmente precedem períodos de estresse de crédito por 18 meses a 3 anos. A capacidade do CCI de antecipar estresse é verificada comparando seus picos com spreads de alta performance e ações de classificação da S&P."
   ]
  },
  {
   "cell_type": "markdown",
   "metadata": {},
   "source": [
    "### Interpretação\n",
    "\n",
    "A interpretação do Indicador de Ciclo de Crédito (CCI) envolve entender como os diferentes componentes que constituem o índice refletem o ambiente de crédito e a saúde financeira de uma economia. Abaixo estão os principais pontos que devem ser considerados:\n",
    "\n",
    "**Níveis do CCI:**\n",
    "* **Níveis Positivos do CCI:** Quando o CCI é positivo, isso sugere que o ambiente de crédito está em um estado de expansão ou crescimento. Este cenário pode indicar que há um aumento no endividamento das famílias e corporações, bem como uma valorização dos preços dos ativos, como imóveis e ações.\n",
    "* **Níveis Negativos do CCI:** Quando o CCI é negativo, isso indica que o ambiente de crédito está contraindo. Este cenário pode ser caracterizado por uma diminuição no endividamento e uma queda nos preços dos ativos, refletindo uma desaceleração econômica ou uma maior restrição no crédito.\n",
    "\n",
    "**Componentes do CCI:**\n",
    "\n",
    "**Crédito/PIB (Famílias e Corporativas):**\n",
    "\n",
    "* Este componente mede a relação entre o crédito total fornecido às famílias e corporações não financeiras em relação ao PIB. Um aumento significativo neste componente pode indicar um risco crescente de endividamento excessivo.\n",
    "\n",
    "**Preços de Ativos (Ações e Imóveis):**\n",
    "\n",
    "* Este componente considera a valorização dos preços das ações e imóveis. Preços de ativos crescentes podem ser sinais de um mercado aquecido, mas também podem indicar a formação de bolhas especulativas.\n",
    "\n",
    "**Indicador de Estresse de Financiamento (FSI):**\n",
    "\n",
    "* O FSI mede as condições de financiamento no mercado. Leituras positivas do FSI indicam condições de financiamento mais frouxas, o que pode fomentar o crescimento do crédito, enquanto leituras negativas indicam condições mais restritivas.\n",
    "\n",
    "**Ciclos Econômicos:**\n",
    "\n",
    "**A interpretação do CCI deve ser contextualizada dentro dos ciclos econômicos:**\n",
    "\n",
    "* **Fase de Expansão:** Durante uma fase de expansão econômica, o CCI tende a aumentar, refletindo um crescimento no crédito e valorização dos ativos.\n",
    "* **Fase de Contração:** Durante uma fase de contração econômica, o CCI tende a diminuir, refletindo uma redução no crédito e depreciação dos ativos.\n",
    "\n",
    "**Indicador Antecipado:**\n",
    "\n",
    "O CCI é considerado um indicador antecipado, pois seus picos e vales geralmente precedem mudanças significativas nas condições econômicas:\n",
    "\n",
    "* **Antecipação de Crises:** Picos no CCI podem preceder crises financeiras, indicando um período de endividamento excessivo e valorização insustentável dos ativos.\n",
    "* **Recuperação Econômica:** Vales no CCI podem sinalizar o início de uma recuperação econômica, indicando uma estabilização das condições de crédito e valorização dos ativos."
   ]
  },
  {
   "cell_type": "markdown",
   "metadata": {},
   "source": [
    "### Conclusão\n",
    "\n",
    "O CCI serve como indicador antecipado de estresse de crédito, sinalizando excessos ou desequilíbrios no setor não financeiro privado. Ao interpretar o CCI, é importante considerar o nível atual, a tendência e o momento de mudança. O CCI não é um critério de classificação da S&P, mas uma ferramenta para facilitar discussões sobre riscos de crédito.\n",
    "\n",
    "### Limitações e Exploração Futura\n",
    "\n",
    "`O CCI não captura todos os fatores de risco, como choques exógenos`, e sua interpretação precisa levar em conta o atraso na disponibilidade dos dados. Futuras explorações podem incluir sistemas de ponderação alternativos, sinalização de variáveis de crédito específicas de indústrias, e comparações mais profundas com indicadores relacionados."
   ]
  },
  {
   "cell_type": "markdown",
   "metadata": {},
   "source": [
    "### Referências\n",
    "\n",
    "* Drehmann, M., Borio, C. E., & Tsatsaronis, K. (2012). Characterising the financial cycle: don't \n",
    "lose sight of the medium term!. BIS Working Paper No. 380\n",
    "\n",
    "* Greenwood, R., Hanson, S. G., Shleifer, A., & Sørensen, J. A. (2020). Predictable financial crises. \n",
    "National Bureau of Economic Research (No. w27396)\n",
    "\n",
    "* Christiano, L. J., & Fitzgerald, T. J. (2003). The band pass filter. International Economic Review, \n",
    "44(2), 435-465."
   ]
  },
  {
   "cell_type": "markdown",
   "metadata": {},
   "source": [
    "## Recriação do Indicador de Ciclo de Crédito (CCI) para o Brasil."
   ]
  },
  {
   "cell_type": "markdown",
   "metadata": {},
   "source": [
    "##### Leitura das Bases:"
   ]
  },
  {
   "cell_type": "markdown",
   "metadata": {},
   "source": [
    "Função para obter dados do IPCA e o IBOVESPA Deflacionado:"
   ]
  },
  {
   "cell_type": "code",
   "execution_count": 40,
   "metadata": {},
   "outputs": [],
   "source": [
    "def get_ipca():\n",
    "    url = 'https://api.bcb.gov.br/dados/serie/bcdata.sgs.433/dados?formato=json'\n",
    "    response = requests.get(url)\n",
    "    data = response.json()\n",
    "    df_ipca = pd.DataFrame(data)\n",
    "    df_ipca['data'] = pd.to_datetime(df_ipca['data'], format='%d/%m/%Y')\n",
    "    df_ipca.set_index('data', inplace=True)\n",
    "    df_ipca['valor'] = df_ipca['valor'].astype(float)\n",
    "    return df_ipca\n",
    "\n",
    "def real_ibov():\n",
    "    # Obter dados históricos do Ibovespa:\n",
    "    ibovespa = yf.download('^BVSP', start='1994-01-01')\n",
    "\n",
    "    # Obter dados do IPCA:\n",
    "    ipca = get_ipca()\n",
    "\n",
    "    # Converter os valores do IPCA para um índice cumulativo (base 100):\n",
    "    ipca['ipca_index'] = ipca['valor'].cumsum()\n",
    "    ipca['ipca_index'] = 100 + ipca['ipca_index']\n",
    "\n",
    "    # Ajustar a frequência do IPCA para mensal para combinar com os dados do Ibovespa:\n",
    "    ipca_monthly = ipca.resample('ME').last()\n",
    "\n",
    "    # Alinhar os dados do Ibovespa com os do IPCA:\n",
    "    ibovespa_monthly = ibovespa.resample('ME').last()\n",
    "\n",
    "    # Combinar os dados do Ibovespa com os do IPCA:\n",
    "    combined_data = pd.concat([ibovespa_monthly['Close'], ipca_monthly['ipca_index']], axis=1)\n",
    "\n",
    "    # Renomear as colunas para facilitar a compreensão:\n",
    "    combined_data.columns = ['Ibovespa', 'IPCA_Index']\n",
    "\n",
    "    # Remover valores NaN (geralmente no início da série onde pode não haver correspondência exata):\n",
    "    combined_data.dropna(inplace=True)\n",
    "\n",
    "    # Calcular a série deflacionada do Ibovespa:\n",
    "    combined_data['real_ibov'] = combined_data['Ibovespa'] / combined_data['IPCA_Index']\n",
    "    combined_data['real_ibov'] = combined_data['real_ibov'] * combined_data['IPCA_Index'].iloc[0]\n",
    "\n",
    "    return combined_data['real_ibov']"
   ]
  },
  {
   "cell_type": "markdown",
   "metadata": {},
   "source": [
    "Leitura dos dados dos componentes do CCI Brazil:"
   ]
  },
  {
   "cell_type": "code",
   "execution_count": 54,
   "metadata": {},
   "outputs": [
    {
     "name": "stderr",
     "output_type": "stream",
     "text": [
      "[*********************100%%**********************]  1 of 1 completed\n"
     ]
    }
   ],
   "source": [
    "def process_excel(file_path, date_column='date'):\n",
    "    df = pd.read_excel(file_path)\n",
    "    df[date_column] = pd.to_datetime(df[date_column])\n",
    "    df.set_index(date_column, inplace=True)\n",
    "    return df\n",
    "\n",
    "# Caminhos:\n",
    "household_sector_br_path = r'C:\\Users\\jonas\\OneDrive - MSFT\\Desktop\\Replicar CCI da S&P Rating\\Versão BR\\Dados\\Total Credit to Households and NPISHs, Adjusted for Breaks, for Brazil.xls'\n",
    "private_sector_br_path =  r'C:\\Users\\jonas\\OneDrive - MSFT\\Desktop\\Replicar CCI da S&P Rating\\Versão BR\\Dados\\Total Credit to Private Non-Financial Sector, Adjusted for Breaks, for Brazil.xls'\n",
    "real_residential_br_path = r'C:\\Users\\jonas\\OneDrive - MSFT\\Desktop\\Replicar CCI da S&P Rating\\Versão BR\\Dados\\Real Residential Property Prices for Brazil.xls'\n",
    "fsi_br_path = r'C:\\Users\\jonas\\OneDrive - MSFT\\Desktop\\Replicar CCI da S&P Rating\\Versão USA\\Dados\\fsi.csv'\n",
    "\n",
    "# Processando os CSVs:\n",
    "household_sector_br = process_excel(household_sector_br_path)\n",
    "private_sector_br = process_excel(private_sector_br_path)\n",
    "real_residential_br = process_excel(real_residential_br_path)\n",
    "real_bov = real_ibov()\n",
    "\n",
    "# Caso especial para o FSI:\n",
    "fsi_em = pd.read_csv(fsi_br_path).rename(columns={'Emerging markets': 'fsi_em'})\n",
    "fsi_em.drop(columns=['OFR FSI', 'Credit', 'Equity valuation', 'Safe assets',\n",
    "                'Funding', 'Volatility', 'Other advanced economies',\n",
    "                'United States'], inplace=True)\n",
    "\n",
    "fsi_em['Date'] = pd.to_datetime(fsi_em['Date'])\n",
    "fsi_em.set_index('Date', inplace=True)"
   ]
  },
  {
   "cell_type": "markdown",
   "metadata": {},
   "source": [
    "##### Manipulação das Bases:"
   ]
  },
  {
   "cell_type": "markdown",
   "metadata": {},
   "source": [
    "`IBOV Defl`:"
   ]
  },
  {
   "cell_type": "code",
   "execution_count": 55,
   "metadata": {},
   "outputs": [
    {
     "data": {
      "text/plain": [
       "1994-04-01    1470.977819\n",
       "1994-07-01    3356.838155\n",
       "1994-10-01    5063.305179\n",
       "Name: real_ibov, dtype: float64"
      ]
     },
     "execution_count": 55,
     "metadata": {},
     "output_type": "execute_result"
    }
   ],
   "source": [
    "real_bov_quarterly = real_bov.resample('QE').last()\n",
    "real_bov_quarterly.index = real_bov_quarterly.index + pd.offsets.QuarterBegin(startingMonth=1)\n",
    "real_bov_quarterly.head(3)"
   ]
  },
  {
   "cell_type": "markdown",
   "metadata": {},
   "source": [
    "`FSI EM`:"
   ]
  },
  {
   "cell_type": "code",
   "execution_count": 56,
   "metadata": {},
   "outputs": [
    {
     "data": {
      "text/html": [
       "<div>\n",
       "<style scoped>\n",
       "    .dataframe tbody tr th:only-of-type {\n",
       "        vertical-align: middle;\n",
       "    }\n",
       "\n",
       "    .dataframe tbody tr th {\n",
       "        vertical-align: top;\n",
       "    }\n",
       "\n",
       "    .dataframe thead th {\n",
       "        text-align: right;\n",
       "    }\n",
       "</style>\n",
       "<table border=\"1\" class=\"dataframe\">\n",
       "  <thead>\n",
       "    <tr style=\"text-align: right;\">\n",
       "      <th></th>\n",
       "      <th>fsi_em</th>\n",
       "    </tr>\n",
       "    <tr>\n",
       "      <th>Date</th>\n",
       "      <th></th>\n",
       "    </tr>\n",
       "  </thead>\n",
       "  <tbody>\n",
       "    <tr>\n",
       "      <th>2000-04-01</th>\n",
       "      <td>0.051</td>\n",
       "    </tr>\n",
       "    <tr>\n",
       "      <th>2000-07-01</th>\n",
       "      <td>0.056</td>\n",
       "    </tr>\n",
       "    <tr>\n",
       "      <th>2000-10-01</th>\n",
       "      <td>0.117</td>\n",
       "    </tr>\n",
       "  </tbody>\n",
       "</table>\n",
       "</div>"
      ],
      "text/plain": [
       "            fsi_em\n",
       "Date              \n",
       "2000-04-01   0.051\n",
       "2000-07-01   0.056\n",
       "2000-10-01   0.117"
      ]
     },
     "execution_count": 56,
     "metadata": {},
     "output_type": "execute_result"
    }
   ],
   "source": [
    "fsi_em_quarterly = fsi_em.resample('QE').last()\n",
    "fsi_em_quarterly.index = fsi_em_quarterly.index + pd.offsets.QuarterBegin(startingMonth=1)\n",
    "fsi_em_quarterly.head(3)"
   ]
  },
  {
   "cell_type": "markdown",
   "metadata": {},
   "source": [
    "##### Tratamentos e Transformações de Dados: Statistical Filter"
   ]
  },
  {
   "cell_type": "code",
   "execution_count": 63,
   "metadata": {},
   "outputs": [
    {
     "name": "stdout",
     "output_type": "stream",
     "text": [
      "            household   private  residential    equity    fsi_em\n",
      "2022-07-01   0.432709  1.183101    -0.015296 -0.125585 -0.018497\n",
      "2022-10-01   0.313941  0.498161    -0.023794 -0.134942 -0.018344\n",
      "2023-01-01   0.104617 -0.337380    -0.029931 -0.125265 -0.013357\n",
      "2023-04-01  -0.048338 -0.838094    -0.034669 -0.103544 -0.007340\n",
      "2023-07-01  -0.060461 -0.851416    -0.038200 -0.074375 -0.002235\n",
      "2023-10-01   0.039682 -0.596109    -0.040182 -0.043092  0.002045\n",
      "2024-01-01        NaN       NaN    -0.040238 -0.017627  0.006167\n",
      "2024-04-01        NaN       NaN          NaN -0.005310  0.009953\n",
      "2024-07-01        NaN       NaN          NaN -0.007151  0.012246\n",
      "2024-10-01        NaN       NaN          NaN       NaN  0.011999\n"
     ]
    }
   ],
   "source": [
    "def get_cycles(series_dict, low=6, high=40):\n",
    "    \"\"\"\n",
    "    Obtém os componentes de ciclo para uma lista de séries temporais.\n",
    "\n",
    "    Parameters:\n",
    "    series_dict (dict): Dicionário onde a chave é o nome da série e o valor é a série temporal (pandas Series).\n",
    "    low (int): Período baixo do filtro para obter os ciclos.\n",
    "    high (int): Período alto do filtro para obter os ciclos.\n",
    "\n",
    "    Returns:\n",
    "    pd.DataFrame: DataFrame contendo os componentes de ciclo de cada série.\n",
    "    \"\"\"\n",
    "\n",
    "    cycles = {}\n",
    "    for name, series in series_dict.items():\n",
    "        cycle, trend = cffilter(series, low=low, high=high)\n",
    "        cycles[name] = cycle\n",
    "    return pd.DataFrame(cycles)\n",
    "\n",
    "# Aqui já será incluida as transformações necessárias para cada série:\n",
    "series_dict = {\n",
    "    # Não há nenhuma Transformação:\n",
    "    'household': household_sector_br['credit_households'],\n",
    "    'private': private_sector_br['credit_private'],\n",
    "    \n",
    "    # Transformação 'Logaritmo Natural':\n",
    "    'residential': np.log(real_residential_br),\n",
    "    'equity': np.log(real_bov_quarterly),\n",
    "    \n",
    "    # Transformação 'Negativo do logaritmo natural':\n",
    "    # Aqui foi preciso alterar a escala da série, pois ela usa números índices, e \n",
    "    # usar tanto o ln quanto o -ln ocorrera um erro devido a valores negativos.\n",
    "    # A escala utilizada foi a seguinte: (x*1)+10.\n",
    "    'fsi_em': -np.log((fsi_em_quarterly - fsi_em_quarterly.mean() / fsi_em_quarterly.std())*1+10)\n",
    "}\n",
    "\n",
    "cycles_br = get_cycles(series_dict)\n",
    "print(cycles_br.tail(10))"
   ]
  },
  {
   "cell_type": "markdown",
   "metadata": {},
   "source": [
    "##### Tratamentos e Transformações de Dados: Further Specifics"
   ]
  },
  {
   "cell_type": "code",
   "execution_count": 72,
   "metadata": {},
   "outputs": [
    {
     "data": {
      "text/html": [
       "<div>\n",
       "<style scoped>\n",
       "    .dataframe tbody tr th:only-of-type {\n",
       "        vertical-align: middle;\n",
       "    }\n",
       "\n",
       "    .dataframe tbody tr th {\n",
       "        vertical-align: top;\n",
       "    }\n",
       "\n",
       "    .dataframe thead th {\n",
       "        text-align: right;\n",
       "    }\n",
       "</style>\n",
       "<table border=\"1\" class=\"dataframe\">\n",
       "  <thead>\n",
       "    <tr style=\"text-align: right;\">\n",
       "      <th></th>\n",
       "      <th>household</th>\n",
       "      <th>private</th>\n",
       "      <th>residential</th>\n",
       "      <th>equity</th>\n",
       "      <th>fsi_em</th>\n",
       "    </tr>\n",
       "  </thead>\n",
       "  <tbody>\n",
       "    <tr>\n",
       "      <th>2023-10-01</th>\n",
       "      <td>0.081406</td>\n",
       "      <td>-0.215096</td>\n",
       "      <td>-1.328529</td>\n",
       "      <td>-0.304042</td>\n",
       "      <td>0.085162</td>\n",
       "    </tr>\n",
       "    <tr>\n",
       "      <th>2024-01-01</th>\n",
       "      <td>NaN</td>\n",
       "      <td>NaN</td>\n",
       "      <td>-1.330334</td>\n",
       "      <td>-0.138518</td>\n",
       "      <td>0.208215</td>\n",
       "    </tr>\n",
       "    <tr>\n",
       "      <th>2024-04-01</th>\n",
       "      <td>NaN</td>\n",
       "      <td>NaN</td>\n",
       "      <td>NaN</td>\n",
       "      <td>-0.058450</td>\n",
       "      <td>0.321205</td>\n",
       "    </tr>\n",
       "    <tr>\n",
       "      <th>2024-07-01</th>\n",
       "      <td>NaN</td>\n",
       "      <td>NaN</td>\n",
       "      <td>NaN</td>\n",
       "      <td>-0.070422</td>\n",
       "      <td>0.389680</td>\n",
       "    </tr>\n",
       "    <tr>\n",
       "      <th>2024-10-01</th>\n",
       "      <td>NaN</td>\n",
       "      <td>NaN</td>\n",
       "      <td>NaN</td>\n",
       "      <td>NaN</td>\n",
       "      <td>0.382284</td>\n",
       "    </tr>\n",
       "  </tbody>\n",
       "</table>\n",
       "</div>"
      ],
      "text/plain": [
       "            household   private  residential    equity    fsi_em\n",
       "2023-10-01   0.081406 -0.215096    -1.328529 -0.304042  0.085162\n",
       "2024-01-01        NaN       NaN    -1.330334 -0.138518  0.208215\n",
       "2024-04-01        NaN       NaN          NaN -0.058450  0.321205\n",
       "2024-07-01        NaN       NaN          NaN -0.070422  0.389680\n",
       "2024-10-01        NaN       NaN          NaN       NaN  0.382284"
      ]
     },
     "execution_count": 72,
     "metadata": {},
     "output_type": "execute_result"
    }
   ],
   "source": [
    "zscore_br = cycles_br.apply(lambda x:\n",
    "                    (x-x.mean())/x.std(), axis=0)\n",
    "\n",
    "zscore_br.tail()"
   ]
  },
  {
   "cell_type": "markdown",
   "metadata": {},
   "source": [
    "##### Weighted Sum And Final Standardization"
   ]
  },
  {
   "cell_type": "code",
   "execution_count": 78,
   "metadata": {},
   "outputs": [],
   "source": [
    "def weighted_sum_and_standardize(cycles_dict, weights, start_period='1995Q1'):\n",
    "    \"\"\"\n",
    "    Calcula a soma ponderada das séries de ciclos e padroniza o resultado final,\n",
    "    começando do período em que todos os dados estão disponíveis.\n",
    "\n",
    "    Parameters:\n",
    "    cycles_dict (dict): Dicionário onde a chave é o nome da série e o valor é a série temporal filtrada (ciclo).\n",
    "    weights (dict): Dicionário onde a chave é o nome da série e o valor é o peso atribuído a ela.\n",
    "    start_period (str): Período inicial para cálculo, formato 'YYYYQX'.\n",
    "\n",
    "    Returns:\n",
    "    pd.Series: Série padronizada representando o Credit Cycle Indicator (CCI).\n",
    "    \"\"\"\n",
    "    # Truncar a série para começar no período especificado:\n",
    "    truncated_cycles = {name: cycles.loc[start_period:] for name, cycles in cycles_dict.items()}\n",
    "\n",
    "    # Calcula a soma ponderada das séries de ciclos:\n",
    "    weighted_sum = sum(weights[name] * cycles for name, cycles in truncated_cycles.items())\n",
    "\n",
    "    # Padroniza a soma ponderada:\n",
    "    cci = (weighted_sum - weighted_sum.mean()) / weighted_sum.std()\n",
    "    return cci\n",
    "\n",
    "def calculate_sub_indicators(cycles_dict, start_period='1995Q1'):\n",
    "    \"\"\"\n",
    "    Calcula os sub-indicadores para domicílios e empresas.\n",
    "\n",
    "    Parameters:\n",
    "    cycles_dict (dict): Dicionário onde a chave é o nome da série e o valor é a série temporal filtrada (ciclo).\n",
    "    start_period (str): Período inicial para cálculo, formato 'YYYYQX'.\n",
    "\n",
    "    Returns:\n",
    "    dict: Dicionário contendo os sub-indicadores padronizados.\n",
    "    \"\"\"\n",
    "    # Trunca as séries para começar do período especificado\n",
    "    truncated_cycles = {name: cycles.loc[start_period:] for name, cycles in cycles_dict.items()}\n",
    "\n",
    "    # Calcula o sub-indicador para domicílios (média dos componentes relevantes)\n",
    "    household_sub_indicator = (truncated_cycles['household'] + truncated_cycles['residential']) / 2\n",
    "\n",
    "    # Calcula o sub-indicador para empresas (média dos componentes relevantes)\n",
    "    corporate_sub_indicator = (truncated_cycles['private'] + truncated_cycles['equity']) / 2\n",
    "\n",
    "    # FSI já está truncado e não precisa de cálculos adicionais\n",
    "    fsi_sub_indicator = truncated_cycles['fsi_em']\n",
    "\n",
    "    # Padroniza os sub-indicadores\n",
    "    household_sub_indicator = (household_sub_indicator - household_sub_indicator.mean()) / household_sub_indicator.std()\n",
    "    corporate_sub_indicator = (corporate_sub_indicator - corporate_sub_indicator.mean()) / corporate_sub_indicator.std()\n",
    "    fsi_sub_indicator = (fsi_sub_indicator - fsi_sub_indicator.mean()) / fsi_sub_indicator.std()\n",
    "\n",
    "    return {\n",
    "        'household_br_sub_indicator': household_sub_indicator,\n",
    "        'corporate_br_sub_indicator': corporate_sub_indicator,\n",
    "        'fsi_em_sub_indicator': fsi_sub_indicator\n",
    "    }\n",
    "\n",
    "# Dicionário de ciclos:\n",
    "cycles_br_dict = {\n",
    "    'household': zscore_br['household'],\n",
    "    'private': zscore_br['private'],\n",
    "    'residential': zscore_br['residential'],\n",
    "    'equity': zscore_br['equity'],\n",
    "    'fsi_em': zscore_br['fsi_em']\n",
    "}\n",
    "\n",
    "# Dicionário de pesos:\n",
    "weights_br = {\n",
    "    'household': 0.20,\n",
    "    'private': 0.20,\n",
    "    'residential': 0.20,\n",
    "    'equity': 0.20,\n",
    "    'fsi_em': 0.20\n",
    "}"
   ]
  },
  {
   "cell_type": "code",
   "execution_count": 92,
   "metadata": {},
   "outputs": [
    {
     "name": "stdout",
     "output_type": "stream",
     "text": [
      "Credit Cycle Indicator (CCI) - Brazil:\n",
      "2001-01-01    1.747025\n",
      "2001-04-01    0.869693\n",
      "2001-07-01    0.118575\n",
      "2001-10-01   -0.207549\n",
      "2002-01-01   -0.188963\n",
      "2002-04-01   -0.193473\n",
      "2002-07-01   -0.548942\n",
      "2002-10-01   -1.253906\n",
      "2003-01-01   -1.964294\n",
      "2003-04-01   -2.257829\n",
      "Freq: QS-OCT, dtype: float64\n"
     ]
    }
   ],
   "source": [
    "cci_br = weighted_sum_and_standardize(cycles_br_dict, weights_br, start_period='2001Q2')\n",
    "\n",
    "print(Fore.CYAN + Style.BRIGHT + 'Credit Cycle Indicator (CCI) - Brazil:' + Style.RESET_ALL)\n",
    "print(cci_br.head(10))"
   ]
  },
  {
   "cell_type": "code",
   "execution_count": 252,
   "metadata": {},
   "outputs": [
    {
     "name": "stdout",
     "output_type": "stream",
     "text": [
      "Household BR Sub-Indicator:\n",
      "2001-01-01    2.843060\n",
      "2001-04-01    1.409330\n",
      "2001-07-01    0.242091\n",
      "2001-10-01   -0.208298\n",
      "2002-01-01   -0.095325\n",
      "Freq: QS-OCT, Name: household_br_sub_indicator, dtype: float64\n",
      "\n",
      "Corporate BR Sub-Indicator:\n",
      "2001-01-01    0.963609\n",
      "2001-04-01    0.698476\n",
      "2001-07-01    0.314144\n",
      "2001-10-01    0.079146\n",
      "2002-01-01    0.097288\n",
      "Freq: QS-OCT, Name: corporate_br_sub_indicator, dtype: float64\n",
      "\n",
      "FSI EM Sub-Indicator:\n",
      "2001-01-01   -0.337254\n",
      "2001-04-01   -0.365428\n",
      "2001-07-01   -0.322801\n",
      "2001-10-01   -0.313517\n",
      "2002-01-01   -0.428097\n",
      "Freq: QS-OCT, Name: fsi_em_sub_indicator, dtype: float64\n"
     ]
    }
   ],
   "source": [
    "sub_indicators_br = pd.DataFrame(calculate_sub_indicators(cycles_br_dict, start_period='2001Q2'))\n",
    "\n",
    "print('Household BR Sub-Indicator:')\n",
    "print(sub_indicators_br['household_br_sub_indicator'].head())\n",
    "print('')\n",
    "print('Corporate BR Sub-Indicator:')\n",
    "print(sub_indicators_br['corporate_br_sub_indicator'].head())\n",
    "print('')\n",
    "print('FSI EM Sub-Indicator:')\n",
    "print(sub_indicators_br['fsi_em_sub_indicator'].head())"
   ]
  },
  {
   "cell_type": "markdown",
   "metadata": {},
   "source": [
    "Gráfico de comparação dos indicadores:"
   ]
  },
  {
   "cell_type": "code",
   "execution_count": 88,
   "metadata": {},
   "outputs": [
    {
     "data": {
      "image/png": "[encoded data removed]",
      "text/plain": [
       "<Figure size 1800x360 with 1 Axes>"
      ]
     },
     "metadata": {},
     "output_type": "display_data"
    }
   ],
   "source": [
    "sns.set_theme(style=\"darkgrid\")\n",
    "plt.figure(figsize=(18, 3.6))\n",
    "\n",
    "# Plotando as séries temporais:\n",
    "plt.plot(cci_br, label='CCI Brazil', color='#559cc3', linewidth=2.5)\n",
    "plt.plot(sub_indicators_br['household_br_sub_indicator'], label='household_br_sub_indicator', color='#002b5f', linestyle='--', linewidth=2.5)\n",
    "plt.plot(sub_indicators_br['corporate_br_sub_indicator'], label='corporate_br_sub_indicator', color='#ffac17', linestyle='--', linewidth=2.5)\n",
    "plt.plot(sub_indicators_br['fsi_em_sub_indicator'], label='fsi_em_sub_indicator', color='#4b2514', linestyle='--', linewidth=2.5)\n",
    "\n",
    "# Ajuste o formato das datas no eixo x para ano/mês:\n",
    "ax = plt.gca()\n",
    "ax.xaxis.set_major_locator(mdates.MonthLocator(interval=22))\n",
    "ax.xaxis.set_major_formatter(mdates.DateFormatter('%b-%Y'))\n",
    "\n",
    "plt.title('Country-Level CCI And Its Sub-Indicators: Brazil Example', fontsize=16, pad=40)\n",
    "plt.legend(loc='upper center', bbox_to_anchor=(0.5, 1.15), ncol=4)\n",
    "plt.show()"
   ]
  },
  {
   "cell_type": "code",
   "execution_count": 267,
   "metadata": {},
   "outputs": [
    {
     "data": {
      "application/vnd.plotly.v1+json": {
       "config": {
        "plotlyServerURL": "https://plot.ly"
       },
       "data": [
        {
         "line": {
          "color": "#559cc3",
          "width": 4.5
         },
         "name": "CCI Brazil",
         "type": "scatter",
         "x": [
          "2001-01-01T00:00:00",
          "2001-04-01T00:00:00",
          "2001-07-01T00:00:00",
          "2001-10-01T00:00:00",
          "2002-01-01T00:00:00",
          "2002-04-01T00:00:00",
          "2002-07-01T00:00:00",
          "2002-10-01T00:00:00",
          "2003-01-01T00:00:00",
          "2003-04-01T00:00:00",
          "2003-07-01T00:00:00",
          "2003-10-01T00:00:00",
          "2004-01-01T00:00:00",
          "2004-04-01T00:00:00",
          "2004-07-01T00:00:00",
          "2004-10-01T00:00:00",
          "2005-01-01T00:00:00",
          "2005-04-01T00:00:00",
          "2005-07-01T00:00:00",
          "2005-10-01T00:00:00",
          "2006-01-01T00:00:00",
          "2006-04-01T00:00:00",
          "2006-07-01T00:00:00",
          "2006-10-01T00:00:00",
          "2007-01-01T00:00:00",
          "2007-04-01T00:00:00",
          "2007-07-01T00:00:00",
          "2007-10-01T00:00:00",
          "2008-01-01T00:00:00",
          "2008-04-01T00:00:00",
          "2008-07-01T00:00:00",
          "2008-10-01T00:00:00",
          "2009-01-01T00:00:00",
          "2009-04-01T00:00:00",
          "2009-07-01T00:00:00",
          "2009-10-01T00:00:00",
          "2010-01-01T00:00:00",
          "2010-04-01T00:00:00",
          "2010-07-01T00:00:00",
          "2010-10-01T00:00:00",
          "2011-01-01T00:00:00",
          "2011-04-01T00:00:00",
          "2011-07-01T00:00:00",
          "2011-10-01T00:00:00",
          "2012-01-01T00:00:00",
          "2012-04-01T00:00:00",
          "2012-07-01T00:00:00",
          "2012-10-01T00:00:00",
          "2013-01-01T00:00:00",
          "2013-04-01T00:00:00",
          "2013-07-01T00:00:00",
          "2013-10-01T00:00:00",
          "2014-01-01T00:00:00",
          "2014-04-01T00:00:00",
          "2014-07-01T00:00:00",
          "2014-10-01T00:00:00",
          "2015-01-01T00:00:00",
          "2015-04-01T00:00:00",
          "2015-07-01T00:00:00",
          "2015-10-01T00:00:00",
          "2016-01-01T00:00:00",
          "2016-04-01T00:00:00",
          "2016-07-01T00:00:00",
          "2016-10-01T00:00:00",
          "2017-01-01T00:00:00",
          "2017-04-01T00:00:00",
          "2017-07-01T00:00:00",
          "2017-10-01T00:00:00",
          "2018-01-01T00:00:00",
          "2018-04-01T00:00:00",
          "2018-07-01T00:00:00",
          "2018-10-01T00:00:00",
          "2019-01-01T00:00:00",
          "2019-04-01T00:00:00",
          "2019-07-01T00:00:00",
          "2019-10-01T00:00:00",
          "2020-01-01T00:00:00",
          "2020-04-01T00:00:00",
          "2020-07-01T00:00:00",
          "2020-10-01T00:00:00",
          "2021-01-01T00:00:00",
          "2021-04-01T00:00:00",
          "2021-07-01T00:00:00",
          "2021-10-01T00:00:00",
          "2022-01-01T00:00:00",
          "2022-04-01T00:00:00",
          "2022-07-01T00:00:00",
          "2022-10-01T00:00:00",
          "2023-01-01T00:00:00",
          "2023-04-01T00:00:00",
          "2023-07-01T00:00:00",
          "2023-10-01T00:00:00",
          "2024-01-01T00:00:00",
          "2024-04-01T00:00:00",
          "2024-07-01T00:00:00",
          "2024-10-01T00:00:00"
         ],
         "y": [
          1.74702489579678,
          0.8696930740360798,
          0.1185751013572925,
          -0.20754854135176146,
          -0.1889625484036016,
          -0.19347317621204652,
          -0.5489424540374038,
          -1.253906307587785,
          -1.964294111621841,
          -2.2578288028297284,
          -1.9502960807471161,
          -1.2117708065738189,
          -0.4137855969318501,
          0.14126179847843193,
          0.3871217153859466,
          0.4552447744737036,
          0.5103392044193235,
          0.6198395011752031,
          0.7471612646777532,
          0.8298294740089414,
          0.8438203200158092,
          0.8036434451593824,
          0.7306039850178815,
          0.6443413564425466,
          0.5807189231201956,
          0.5865714487622763,
          0.6619300453870359,
          0.6979872317620429,
          0.5017433795684707,
          -0.06253308712717442,
          -0.9085603958142188,
          -1.6967291243633256,
          -2.0108399381819058,
          -1.6410491013462307,
          -0.755858452689582,
          0.1892884633039808,
          0.7524910569287088,
          0.7857302954193608,
          0.47986111319574476,
          0.1560520635643594,
          -0.004813610696163748,
          -0.06455752308536328,
          -0.19472328515515552,
          -0.4551158269407362,
          -0.7021180018355117,
          -0.7133576805286235,
          -0.4071843709190598,
          0.05509739563667169,
          0.3874299693273923,
          0.41635281217321185,
          0.22612916784105855,
          0.08397484920768578,
          0.2146474012858477,
          0.6222001415369419,
          1.1039514324648074,
          1.4244590871124776,
          1.4828258828920515,
          1.3337069945832927,
          1.0736136294650636,
          0.728780481858384,
          0.26219094575944313,
          -0.31798847702400174,
          -0.8790060517001864,
          -1.2196948614147878,
          -1.2305529077647588,
          -1.009957733979222,
          -0.8127054902154065,
          -0.8555446387423621,
          -1.140580932898151,
          -1.451572194304652,
          -1.5303184421600675,
          -1.2824898119646513,
          -0.8371723261237882,
          -0.4149394004351983,
          -0.12778553361046152,
          0.1094985900782022,
          0.48043607083647255,
          1.0722069438056017,
          1.7596696560765828,
          2.270649500923668,
          2.377156340251971,
          2.0532625681794574,
          1.4762857974578307,
          0.884137782632033,
          0.4158524678468245,
          0.06059956917322636,
          -0.26427274722424116,
          -0.594606757908935,
          -0.8697720675638791,
          -0.9873508683070434,
          -0.9024277522211709,
          -0.6790015893204846,
          null,
          null,
          null,
          null
         ]
        },
        {
         "line": {
          "color": "#002b5f",
          "dash": "dash",
          "width": 4.5
         },
         "name": "Household Br sub-indicator",
         "type": "scatter",
         "x": [
          "2001-01-01T00:00:00",
          "2001-04-01T00:00:00",
          "2001-07-01T00:00:00",
          "2001-10-01T00:00:00",
          "2002-01-01T00:00:00",
          "2002-04-01T00:00:00",
          "2002-07-01T00:00:00",
          "2002-10-01T00:00:00",
          "2003-01-01T00:00:00",
          "2003-04-01T00:00:00",
          "2003-07-01T00:00:00",
          "2003-10-01T00:00:00",
          "2004-01-01T00:00:00",
          "2004-04-01T00:00:00",
          "2004-07-01T00:00:00",
          "2004-10-01T00:00:00",
          "2005-01-01T00:00:00",
          "2005-04-01T00:00:00",
          "2005-07-01T00:00:00",
          "2005-10-01T00:00:00",
          "2006-01-01T00:00:00",
          "2006-04-01T00:00:00",
          "2006-07-01T00:00:00",
          "2006-10-01T00:00:00",
          "2007-01-01T00:00:00",
          "2007-04-01T00:00:00",
          "2007-07-01T00:00:00",
          "2007-10-01T00:00:00",
          "2008-01-01T00:00:00",
          "2008-04-01T00:00:00",
          "2008-07-01T00:00:00",
          "2008-10-01T00:00:00",
          "2009-01-01T00:00:00",
          "2009-04-01T00:00:00",
          "2009-07-01T00:00:00",
          "2009-10-01T00:00:00",
          "2010-01-01T00:00:00",
          "2010-04-01T00:00:00",
          "2010-07-01T00:00:00",
          "2010-10-01T00:00:00",
          "2011-01-01T00:00:00",
          "2011-04-01T00:00:00",
          "2011-07-01T00:00:00",
          "2011-10-01T00:00:00",
          "2012-01-01T00:00:00",
          "2012-04-01T00:00:00",
          "2012-07-01T00:00:00",
          "2012-10-01T00:00:00",
          "2013-01-01T00:00:00",
          "2013-04-01T00:00:00",
          "2013-07-01T00:00:00",
          "2013-10-01T00:00:00",
          "2014-01-01T00:00:00",
          "2014-04-01T00:00:00",
          "2014-07-01T00:00:00",
          "2014-10-01T00:00:00",
          "2015-01-01T00:00:00",
          "2015-04-01T00:00:00",
          "2015-07-01T00:00:00",
          "2015-10-01T00:00:00",
          "2016-01-01T00:00:00",
          "2016-04-01T00:00:00",
          "2016-07-01T00:00:00",
          "2016-10-01T00:00:00",
          "2017-01-01T00:00:00",
          "2017-04-01T00:00:00",
          "2017-07-01T00:00:00",
          "2017-10-01T00:00:00",
          "2018-01-01T00:00:00",
          "2018-04-01T00:00:00",
          "2018-07-01T00:00:00",
          "2018-10-01T00:00:00",
          "2019-01-01T00:00:00",
          "2019-04-01T00:00:00",
          "2019-07-01T00:00:00",
          "2019-10-01T00:00:00",
          "2020-01-01T00:00:00",
          "2020-04-01T00:00:00",
          "2020-07-01T00:00:00",
          "2020-10-01T00:00:00",
          "2021-01-01T00:00:00",
          "2021-04-01T00:00:00",
          "2021-07-01T00:00:00",
          "2021-10-01T00:00:00",
          "2022-01-01T00:00:00",
          "2022-04-01T00:00:00",
          "2022-07-01T00:00:00",
          "2022-10-01T00:00:00",
          "2023-01-01T00:00:00",
          "2023-04-01T00:00:00",
          "2023-07-01T00:00:00",
          "2023-10-01T00:00:00",
          "2024-01-01T00:00:00",
          "2024-04-01T00:00:00",
          "2024-07-01T00:00:00",
          "2024-10-01T00:00:00"
         ],
         "y": [
          2.8430602147235615,
          1.4093298727578172,
          0.24209132543202286,
          -0.20829826450765485,
          -0.09532458594818496,
          0.025127846178596116,
          -0.31545156399467217,
          -1.1236321422356956,
          -1.967442010999517,
          -2.34163904176865,
          -2.053656573433721,
          -1.3276158481456013,
          -0.5839261682306566,
          -0.11501873613875215,
          0.0730700328457719,
          0.1619851264784591,
          0.3002698612499131,
          0.4719753368890121,
          0.5494352980887199,
          0.44561673893142073,
          0.20705110317576206,
          -0.03030114207070759,
          -0.16004848061744834,
          -0.1767003368175593,
          -0.14183120340800248,
          -0.09901432845529697,
          -0.034507944074061464,
          0.08040595738698941,
          0.22306343232666886,
          0.3129309008960759,
          0.28237179427926884,
          0.15441378026597655,
          0.0414816798492809,
          0.05408319551514637,
          0.19999758988978683,
          0.3699743149347081,
          0.42726936867993165,
          0.3206912133961376,
          0.11881484215697133,
          -0.06202186631086109,
          -0.16394070543918104,
          -0.22742592632812567,
          -0.3321816299203165,
          -0.5025973451768159,
          -0.6727256088543416,
          -0.7435768695459123,
          -0.6733880706502939,
          -0.510490979730211,
          -0.3377260475979421,
          -0.1865982580158461,
          -0.009279347886103009,
          0.26236434415225185,
          0.6300667464675495,
          1.0033794395247022,
          1.2634173691407904,
          1.3548202685541293,
          1.3150902977816286,
          1.212650077642657,
          1.0584376020255644,
          0.7865301765172235,
          0.33269546027345415,
          -0.2620276347188431,
          -0.8316284111248922,
          -1.1870138570856876,
          -1.2609532251826274,
          -1.1666296921732944,
          -1.1086746375022978,
          -1.215895773861207,
          -1.438430555850318,
          -1.598185676128551,
          -1.5457190732802542,
          -1.2817586292273326,
          -0.9350395259591153,
          -0.6211372024085153,
          -0.3185514712939987,
          0.11471765520041084,
          0.7891409167722475,
          1.6299763112474452,
          2.3676599932666322,
          2.698975033723213,
          2.4980873998232798,
          1.9087511377642188,
          1.242794724795998,
          0.7653575682353554,
          0.5337062103417861,
          0.40536195398357,
          0.1914011479216479,
          -0.17898901810694973,
          -0.6105498466853228,
          -0.9322548957650577,
          -1.0367356032721426,
          -0.953356905555213,
          null,
          null,
          null,
          null
         ]
        },
        {
         "line": {
          "color": "#ffac17",
          "dash": "dash",
          "width": 4.5
         },
         "name": "Corporate Br sub-indicator",
         "type": "scatter",
         "x": [
          "2001-01-01T00:00:00",
          "2001-04-01T00:00:00",
          "2001-07-01T00:00:00",
          "2001-10-01T00:00:00",
          "2002-01-01T00:00:00",
          "2002-04-01T00:00:00",
          "2002-07-01T00:00:00",
          "2002-10-01T00:00:00",
          "2003-01-01T00:00:00",
          "2003-04-01T00:00:00",
          "2003-07-01T00:00:00",
          "2003-10-01T00:00:00",
          "2004-01-01T00:00:00",
          "2004-04-01T00:00:00",
          "2004-07-01T00:00:00",
          "2004-10-01T00:00:00",
          "2005-01-01T00:00:00",
          "2005-04-01T00:00:00",
          "2005-07-01T00:00:00",
          "2005-10-01T00:00:00",
          "2006-01-01T00:00:00",
          "2006-04-01T00:00:00",
          "2006-07-01T00:00:00",
          "2006-10-01T00:00:00",
          "2007-01-01T00:00:00",
          "2007-04-01T00:00:00",
          "2007-07-01T00:00:00",
          "2007-10-01T00:00:00",
          "2008-01-01T00:00:00",
          "2008-04-01T00:00:00",
          "2008-07-01T00:00:00",
          "2008-10-01T00:00:00",
          "2009-01-01T00:00:00",
          "2009-04-01T00:00:00",
          "2009-07-01T00:00:00",
          "2009-10-01T00:00:00",
          "2010-01-01T00:00:00",
          "2010-04-01T00:00:00",
          "2010-07-01T00:00:00",
          "2010-10-01T00:00:00",
          "2011-01-01T00:00:00",
          "2011-04-01T00:00:00",
          "2011-07-01T00:00:00",
          "2011-10-01T00:00:00",
          "2012-01-01T00:00:00",
          "2012-04-01T00:00:00",
          "2012-07-01T00:00:00",
          "2012-10-01T00:00:00",
          "2013-01-01T00:00:00",
          "2013-04-01T00:00:00",
          "2013-07-01T00:00:00",
          "2013-10-01T00:00:00",
          "2014-01-01T00:00:00",
          "2014-04-01T00:00:00",
          "2014-07-01T00:00:00",
          "2014-10-01T00:00:00",
          "2015-01-01T00:00:00",
          "2015-04-01T00:00:00",
          "2015-07-01T00:00:00",
          "2015-10-01T00:00:00",
          "2016-01-01T00:00:00",
          "2016-04-01T00:00:00",
          "2016-07-01T00:00:00",
          "2016-10-01T00:00:00",
          "2017-01-01T00:00:00",
          "2017-04-01T00:00:00",
          "2017-07-01T00:00:00",
          "2017-10-01T00:00:00",
          "2018-01-01T00:00:00",
          "2018-04-01T00:00:00",
          "2018-07-01T00:00:00",
          "2018-10-01T00:00:00",
          "2019-01-01T00:00:00",
          "2019-04-01T00:00:00",
          "2019-07-01T00:00:00",
          "2019-10-01T00:00:00",
          "2020-01-01T00:00:00",
          "2020-04-01T00:00:00",
          "2020-07-01T00:00:00",
          "2020-10-01T00:00:00",
          "2021-01-01T00:00:00",
          "2021-04-01T00:00:00",
          "2021-07-01T00:00:00",
          "2021-10-01T00:00:00",
          "2022-01-01T00:00:00",
          "2022-04-01T00:00:00",
          "2022-07-01T00:00:00",
          "2022-10-01T00:00:00",
          "2023-01-01T00:00:00",
          "2023-04-01T00:00:00",
          "2023-07-01T00:00:00",
          "2023-10-01T00:00:00",
          "2024-01-01T00:00:00",
          "2024-04-01T00:00:00",
          "2024-07-01T00:00:00",
          "2024-10-01T00:00:00"
         ],
         "y": [
          0.9636092113141347,
          0.6984764982236659,
          0.31414394005693524,
          0.07914624287162882,
          0.09728785363047537,
          0.17652509551580442,
          -0.000453436815574776,
          -0.5525694848003472,
          -1.231403351466972,
          -1.5818179523260896,
          -1.3077081499563767,
          -0.5303793029381849,
          0.2815619667153933,
          0.6510892889821539,
          0.4237371529614872,
          -0.15880217062799623,
          -0.6664277853087227,
          -0.7794924487085939,
          -0.4577274021396093,
          0.09872556006839903,
          0.6105214345696242,
          0.8687826899129469,
          0.807338387604343,
          0.5113953789185873,
          0.18709704213002815,
          0.08148851012597491,
          0.3444099728555936,
          0.891354953892892,
          1.3863238324637452,
          1.4181736184876916,
          0.7917199048646701,
          -0.278201332951349,
          -1.2518208814569531,
          -1.6072525761729355,
          -1.2001667108657692,
          -0.3615421465329973,
          0.3489392842597791,
          0.5410464668210557,
          0.23182347478339346,
          -0.24680542323178348,
          -0.5612345979518294,
          -0.6282752097792043,
          -0.6041714616209856,
          -0.6586617743726362,
          -0.7713262322265364,
          -0.748348794560504,
          -0.4369624437425926,
          0.07695652220937783,
          0.4885870940119534,
          0.5096417106880656,
          0.11804936753575708,
          -0.3959589688575302,
          -0.6286402484543081,
          -0.34255281480743405,
          0.39022660663765135,
          1.2679995617482227,
          1.9644909180510965,
          2.287134653776866,
          2.1988922735177243,
          1.7514978798825016,
          1.0347475883232766,
          0.1839309183823592,
          -0.6083084327863554,
          -1.1467237555855168,
          -1.345219338051401,
          -1.298201445056527,
          -1.223015519670692,
          -1.295840742961567,
          -1.5117435841419562,
          -1.6931799998128587,
          -1.6448211923887217,
          -1.3197173180476829,
          -0.8490253644537131,
          -0.41164917295791426,
          -0.06825031412481265,
          0.28228109909894483,
          0.7799977779822405,
          1.4280623904028882,
          2.031461316521151,
          2.3174162498172244,
          2.1405931040737283,
          1.5977578977925762,
          0.9542186825444843,
          0.44706760485840774,
          0.13223401553838593,
          -0.10376672052157224,
          -0.39407717479663606,
          -0.745834908540597,
          -1.0258138619496155,
          -1.0810198230105852,
          -0.880342056987697,
          -0.5527091669050471,
          null,
          null,
          null,
          null
         ]
        },
        {
         "line": {
          "color": "#4b2514",
          "dash": "dash",
          "width": 4.5
         },
         "name": "FSI EM sub-indicator",
         "type": "scatter",
         "x": [
          "2001-01-01T00:00:00",
          "2001-04-01T00:00:00",
          "2001-07-01T00:00:00",
          "2001-10-01T00:00:00",
          "2002-01-01T00:00:00",
          "2002-04-01T00:00:00",
          "2002-07-01T00:00:00",
          "2002-10-01T00:00:00",
          "2003-01-01T00:00:00",
          "2003-04-01T00:00:00",
          "2003-07-01T00:00:00",
          "2003-10-01T00:00:00",
          "2004-01-01T00:00:00",
          "2004-04-01T00:00:00",
          "2004-07-01T00:00:00",
          "2004-10-01T00:00:00",
          "2005-01-01T00:00:00",
          "2005-04-01T00:00:00",
          "2005-07-01T00:00:00",
          "2005-10-01T00:00:00",
          "2006-01-01T00:00:00",
          "2006-04-01T00:00:00",
          "2006-07-01T00:00:00",
          "2006-10-01T00:00:00",
          "2007-01-01T00:00:00",
          "2007-04-01T00:00:00",
          "2007-07-01T00:00:00",
          "2007-10-01T00:00:00",
          "2008-01-01T00:00:00",
          "2008-04-01T00:00:00",
          "2008-07-01T00:00:00",
          "2008-10-01T00:00:00",
          "2009-01-01T00:00:00",
          "2009-04-01T00:00:00",
          "2009-07-01T00:00:00",
          "2009-10-01T00:00:00",
          "2010-01-01T00:00:00",
          "2010-04-01T00:00:00",
          "2010-07-01T00:00:00",
          "2010-10-01T00:00:00",
          "2011-01-01T00:00:00",
          "2011-04-01T00:00:00",
          "2011-07-01T00:00:00",
          "2011-10-01T00:00:00",
          "2012-01-01T00:00:00",
          "2012-04-01T00:00:00",
          "2012-07-01T00:00:00",
          "2012-10-01T00:00:00",
          "2013-01-01T00:00:00",
          "2013-04-01T00:00:00",
          "2013-07-01T00:00:00",
          "2013-10-01T00:00:00",
          "2014-01-01T00:00:00",
          "2014-04-01T00:00:00",
          "2014-07-01T00:00:00",
          "2014-10-01T00:00:00",
          "2015-01-01T00:00:00",
          "2015-04-01T00:00:00",
          "2015-07-01T00:00:00",
          "2015-10-01T00:00:00",
          "2016-01-01T00:00:00",
          "2016-04-01T00:00:00",
          "2016-07-01T00:00:00",
          "2016-10-01T00:00:00",
          "2017-01-01T00:00:00",
          "2017-04-01T00:00:00",
          "2017-07-01T00:00:00",
          "2017-10-01T00:00:00",
          "2018-01-01T00:00:00",
          "2018-04-01T00:00:00",
          "2018-07-01T00:00:00",
          "2018-10-01T00:00:00",
          "2019-01-01T00:00:00",
          "2019-04-01T00:00:00",
          "2019-07-01T00:00:00",
          "2019-10-01T00:00:00",
          "2020-01-01T00:00:00",
          "2020-04-01T00:00:00",
          "2020-07-01T00:00:00",
          "2020-10-01T00:00:00",
          "2021-01-01T00:00:00",
          "2021-04-01T00:00:00",
          "2021-07-01T00:00:00",
          "2021-10-01T00:00:00",
          "2022-01-01T00:00:00",
          "2022-04-01T00:00:00",
          "2022-07-01T00:00:00",
          "2022-10-01T00:00:00",
          "2023-01-01T00:00:00",
          "2023-04-01T00:00:00",
          "2023-07-01T00:00:00",
          "2023-10-01T00:00:00",
          "2024-01-01T00:00:00",
          "2024-04-01T00:00:00",
          "2024-07-01T00:00:00",
          "2024-10-01T00:00:00"
         ],
         "y": [
          -0.337254453652387,
          -0.3654277553912677,
          -0.3228012013178465,
          -0.31351663256758905,
          -0.42809671017194323,
          -0.6619072274916076,
          -0.9124552856054065,
          -1.0603490902010972,
          -1.0615173793591974,
          -0.9665966038280607,
          -0.851011152025328,
          -0.7245729377171805,
          -0.5113313563114339,
          -0.12542874718673355,
          0.4242308348754897,
          1.0006948873623476,
          1.4165174694396638,
          1.5614718360126683,
          1.4732424794868586,
          1.2950114693730248,
          1.1645210185789963,
          1.1342296951545365,
          1.1805903464566085,
          1.2659002987620203,
          1.365550726310175,
          1.4211622361240586,
          1.2798601289542968,
          0.7252667681573132,
          -0.3653875792940549,
          -1.8389298174338018,
          -3.2299730651536396,
          -3.960487158710379,
          -3.6782768056957713,
          -2.499558226259588,
          -0.9624708991009645,
          0.29513022517075566,
          0.9089944170140696,
          0.9474752025321377,
          0.7593662293832257,
          0.6558585561566275,
          0.6890265912001471,
          0.6885355244096182,
          0.49119748195335766,
          0.14021885600882458,
          -0.1268448565554681,
          -0.08511000702969578,
          0.2673008551183149,
          0.6882120541539939,
          0.8826467345787934,
          0.7418616588192869,
          0.4245839642029826,
          0.21302080064210824,
          0.2698651053780267,
          0.5033920080572599,
          0.6499697859100007,
          0.4967052923727119,
          0.053757770094718126,
          -0.4615361948150074,
          -0.8016166825865007,
          -0.8685401782409418,
          -0.7502290571459072,
          -0.6014978804191763,
          -0.4921634786756924,
          -0.3619514445744678,
          -0.1149001020169792,
          0.24457447886469802,
          0.5691716189091945,
          0.6687946149888155,
          0.47132501274959104,
          0.10247246774768691,
          -0.19311612038113465,
          -0.23441155232703254,
          -0.04547771454949381,
          0.1603944448281734,
          0.14678866039586014,
          -0.15525205680934734,
          -0.5782831229077053,
          -0.8254598270982088,
          -0.6766834289500259,
          -0.1461465077876882,
          0.5178560685314625,
          0.9858044938677553,
          1.0439604025775515,
          0.7058324076648926,
          0.17691982635097933,
          -0.28647402871551164,
          -0.5213649817701976,
          -0.516862620385707,
          -0.37025371714902133,
          -0.19334973583154258,
          -0.0432883007583655,
          0.08254207190564797,
          0.2037322994834112,
          0.31501132369067414,
          0.382449227797581,
          0.375164953397101
         ]
        }
       ],
       "layout": {
        "annotations": [
         {
          "font": {
           "color": "black",
           "family": "Aptos",
           "size": 22
          },
          "showarrow": false,
          "text": "Credit Cycle Stage (CCS)",
          "x": 0.5,
          "xref": "paper",
          "y": 1.05,
          "yref": "paper"
         }
        ],
        "height": 480,
        "legend": {
         "font": {
          "color": "black",
          "family": "Aptos",
          "size": 15
         },
         "orientation": "h",
         "x": 0.5,
         "xanchor": "center",
         "y": 1.06,
         "yanchor": "bottom"
        },
        "paper_bgcolor": "white",
        "plot_bgcolor": "white",
        "template": {
         "data": {
          "bar": [
           {
            "error_x": {
             "color": "#2a3f5f"
            },
            "error_y": {
             "color": "#2a3f5f"
            },
            "marker": {
             "line": {
              "color": "#E5ECF6",
              "width": 0.5
             },
             "pattern": {
              "fillmode": "overlay",
              "size": 10,
              "solidity": 0.2
             }
            },
            "type": "bar"
           }
          ],
          "barpolar": [
           {
            "marker": {
             "line": {
              "color": "#E5ECF6",
              "width": 0.5
             },
             "pattern": {
              "fillmode": "overlay",
              "size": 10,
              "solidity": 0.2
             }
            },
            "type": "barpolar"
           }
          ],
          "carpet": [
           {
            "aaxis": {
             "endlinecolor": "#2a3f5f",
             "gridcolor": "white",
             "linecolor": "white",
             "minorgridcolor": "white",
             "startlinecolor": "#2a3f5f"
            },
            "baxis": {
             "endlinecolor": "#2a3f5f",
             "gridcolor": "white",
             "linecolor": "white",
             "minorgridcolor": "white",
             "startlinecolor": "#2a3f5f"
            },
            "type": "carpet"
           }
          ],
          "choropleth": [
           {
            "colorbar": {
             "outlinewidth": 0,
             "ticks": ""
            },
            "type": "choropleth"
           }
          ],
          "contour": [
           {
            "colorbar": {
             "outlinewidth": 0,
             "ticks": ""
            },
            "colorscale": [
             [
              0,
              "#0d0887"
             ],
             [
              0.1111111111111111,
              "#46039f"
             ],
             [
              0.2222222222222222,
              "#7201a8"
             ],
             [
              0.3333333333333333,
              "#9c179e"
             ],
             [
              0.4444444444444444,
              "#bd3786"
             ],
             [
              0.5555555555555556,
              "#d8576b"
             ],
             [
              0.6666666666666666,
              "#ed7953"
             ],
             [
              0.7777777777777778,
              "#fb9f3a"
             ],
             [
              0.8888888888888888,
              "#fdca26"
             ],
             [
              1,
              "#f0f921"
             ]
            ],
            "type": "contour"
           }
          ],
          "contourcarpet": [
           {
            "colorbar": {
             "outlinewidth": 0,
             "ticks": ""
            },
            "type": "contourcarpet"
           }
          ],
          "heatmap": [
           {
            "colorbar": {
             "outlinewidth": 0,
             "ticks": ""
            },
            "colorscale": [
             [
              0,
              "#0d0887"
             ],
             [
              0.1111111111111111,
              "#46039f"
             ],
             [
              0.2222222222222222,
              "#7201a8"
             ],
             [
              0.3333333333333333,
              "#9c179e"
             ],
             [
              0.4444444444444444,
              "#bd3786"
             ],
             [
              0.5555555555555556,
              "#d8576b"
             ],
             [
              0.6666666666666666,
              "#ed7953"
             ],
             [
              0.7777777777777778,
              "#fb9f3a"
             ],
             [
              0.8888888888888888,
              "#fdca26"
             ],
             [
              1,
              "#f0f921"
             ]
            ],
            "type": "heatmap"
           }
          ],
          "heatmapgl": [
           {
            "colorbar": {
             "outlinewidth": 0,
             "ticks": ""
            },
            "colorscale": [
             [
              0,
              "#0d0887"
             ],
             [
              0.1111111111111111,
              "#46039f"
             ],
             [
              0.2222222222222222,
              "#7201a8"
             ],
             [
              0.3333333333333333,
              "#9c179e"
             ],
             [
              0.4444444444444444,
              "#bd3786"
             ],
             [
              0.5555555555555556,
              "#d8576b"
             ],
             [
              0.6666666666666666,
              "#ed7953"
             ],
             [
              0.7777777777777778,
              "#fb9f3a"
             ],
             [
              0.8888888888888888,
              "#fdca26"
             ],
             [
              1,
              "#f0f921"
             ]
            ],
            "type": "heatmapgl"
           }
          ],
          "histogram": [
           {
            "marker": {
             "pattern": {
              "fillmode": "overlay",
              "size": 10,
              "solidity": 0.2
             }
            },
            "type": "histogram"
           }
          ],
          "histogram2d": [
           {
            "colorbar": {
             "outlinewidth": 0,
             "ticks": ""
            },
            "colorscale": [
             [
              0,
              "#0d0887"
             ],
             [
              0.1111111111111111,
              "#46039f"
             ],
             [
              0.2222222222222222,
              "#7201a8"
             ],
             [
              0.3333333333333333,
              "#9c179e"
             ],
             [
              0.4444444444444444,
              "#bd3786"
             ],
             [
              0.5555555555555556,
              "#d8576b"
             ],
             [
              0.6666666666666666,
              "#ed7953"
             ],
             [
              0.7777777777777778,
              "#fb9f3a"
             ],
             [
              0.8888888888888888,
              "#fdca26"
             ],
             [
              1,
              "#f0f921"
             ]
            ],
            "type": "histogram2d"
           }
          ],
          "histogram2dcontour": [
           {
            "colorbar": {
             "outlinewidth": 0,
             "ticks": ""
            },
            "colorscale": [
             [
              0,
              "#0d0887"
             ],
             [
              0.1111111111111111,
              "#46039f"
             ],
             [
              0.2222222222222222,
              "#7201a8"
             ],
             [
              0.3333333333333333,
              "#9c179e"
             ],
             [
              0.4444444444444444,
              "#bd3786"
             ],
             [
              0.5555555555555556,
              "#d8576b"
             ],
             [
              0.6666666666666666,
              "#ed7953"
             ],
             [
              0.7777777777777778,
              "#fb9f3a"
             ],
             [
              0.8888888888888888,
              "#fdca26"
             ],
             [
              1,
              "#f0f921"
             ]
            ],
            "type": "histogram2dcontour"
           }
          ],
          "mesh3d": [
           {
            "colorbar": {
             "outlinewidth": 0,
             "ticks": ""
            },
            "type": "mesh3d"
           }
          ],
          "parcoords": [
           {
            "line": {
             "colorbar": {
              "outlinewidth": 0,
              "ticks": ""
             }
            },
            "type": "parcoords"
           }
          ],
          "pie": [
           {
            "automargin": true,
            "type": "pie"
           }
          ],
          "scatter": [
           {
            "fillpattern": {
             "fillmode": "overlay",
             "size": 10,
             "solidity": 0.2
            },
            "type": "scatter"
           }
          ],
          "scatter3d": [
           {
            "line": {
             "colorbar": {
              "outlinewidth": 0,
              "ticks": ""
             }
            },
            "marker": {
             "colorbar": {
              "outlinewidth": 0,
              "ticks": ""
             }
            },
            "type": "scatter3d"
           }
          ],
          "scattercarpet": [
           {
            "marker": {
             "colorbar": {
              "outlinewidth": 0,
              "ticks": ""
             }
            },
            "type": "scattercarpet"
           }
          ],
          "scattergeo": [
           {
            "marker": {
             "colorbar": {
              "outlinewidth": 0,
              "ticks": ""
             }
            },
            "type": "scattergeo"
           }
          ],
          "scattergl": [
           {
            "marker": {
             "colorbar": {
              "outlinewidth": 0,
              "ticks": ""
             }
            },
            "type": "scattergl"
           }
          ],
          "scattermapbox": [
           {
            "marker": {
             "colorbar": {
              "outlinewidth": 0,
              "ticks": ""
             }
            },
            "type": "scattermapbox"
           }
          ],
          "scatterpolar": [
           {
            "marker": {
             "colorbar": {
              "outlinewidth": 0,
              "ticks": ""
             }
            },
            "type": "scatterpolar"
           }
          ],
          "scatterpolargl": [
           {
            "marker": {
             "colorbar": {
              "outlinewidth": 0,
              "ticks": ""
             }
            },
            "type": "scatterpolargl"
           }
          ],
          "scatterternary": [
           {
            "marker": {
             "colorbar": {
              "outlinewidth": 0,
              "ticks": ""
             }
            },
            "type": "scatterternary"
           }
          ],
          "surface": [
           {
            "colorbar": {
             "outlinewidth": 0,
             "ticks": ""
            },
            "colorscale": [
             [
              0,
              "#0d0887"
             ],
             [
              0.1111111111111111,
              "#46039f"
             ],
             [
              0.2222222222222222,
              "#7201a8"
             ],
             [
              0.3333333333333333,
              "#9c179e"
             ],
             [
              0.4444444444444444,
              "#bd3786"
             ],
             [
              0.5555555555555556,
              "#d8576b"
             ],
             [
              0.6666666666666666,
              "#ed7953"
             ],
             [
              0.7777777777777778,
              "#fb9f3a"
             ],
             [
              0.8888888888888888,
              "#fdca26"
             ],
             [
              1,
              "#f0f921"
             ]
            ],
            "type": "surface"
           }
          ],
          "table": [
           {
            "cells": {
             "fill": {
              "color": "#EBF0F8"
             },
             "line": {
              "color": "white"
             }
            },
            "header": {
             "fill": {
              "color": "#C8D4E3"
             },
             "line": {
              "color": "white"
             }
            },
            "type": "table"
           }
          ]
         },
         "layout": {
          "annotationdefaults": {
           "arrowcolor": "#2a3f5f",
           "arrowhead": 0,
           "arrowwidth": 1
          },
          "autotypenumbers": "strict",
          "coloraxis": {
           "colorbar": {
            "outlinewidth": 0,
            "ticks": ""
           }
          },
          "colorscale": {
           "diverging": [
            [
             0,
             "#8e0152"
            ],
            [
             0.1,
             "#c51b7d"
            ],
            [
             0.2,
             "#de77ae"
            ],
            [
             0.3,
             "#f1b6da"
            ],
            [
             0.4,
             "#fde0ef"
            ],
            [
             0.5,
             "#f7f7f7"
            ],
            [
             0.6,
             "#e6f5d0"
            ],
            [
             0.7,
             "#b8e186"
            ],
            [
             0.8,
             "#7fbc41"
            ],
            [
             0.9,
             "#4d9221"
            ],
            [
             1,
             "#276419"
            ]
           ],
           "sequential": [
            [
             0,
             "#0d0887"
            ],
            [
             0.1111111111111111,
             "#46039f"
            ],
            [
             0.2222222222222222,
             "#7201a8"
            ],
            [
             0.3333333333333333,
             "#9c179e"
            ],
            [
             0.4444444444444444,
             "#bd3786"
            ],
            [
             0.5555555555555556,
             "#d8576b"
            ],
            [
             0.6666666666666666,
             "#ed7953"
            ],
            [
             0.7777777777777778,
             "#fb9f3a"
            ],
            [
             0.8888888888888888,
             "#fdca26"
            ],
            [
             1,
             "#f0f921"
            ]
           ],
           "sequentialminus": [
            [
             0,
             "#0d0887"
            ],
            [
             0.1111111111111111,
             "#46039f"
            ],
            [
             0.2222222222222222,
             "#7201a8"
            ],
            [
             0.3333333333333333,
             "#9c179e"
            ],
            [
             0.4444444444444444,
             "#bd3786"
            ],
            [
             0.5555555555555556,
             "#d8576b"
            ],
            [
             0.6666666666666666,
             "#ed7953"
            ],
            [
             0.7777777777777778,
             "#fb9f3a"
            ],
            [
             0.8888888888888888,
             "#fdca26"
            ],
            [
             1,
             "#f0f921"
            ]
           ]
          },
          "colorway": [
           "#636efa",
           "#EF553B",
           "#00cc96",
           "#ab63fa",
           "#FFA15A",
           "#19d3f3",
           "#FF6692",
           "#B6E880",
           "#FF97FF",
           "#FECB52"
          ],
          "font": {
           "color": "#2a3f5f"
          },
          "geo": {
           "bgcolor": "white",
           "lakecolor": "white",
           "landcolor": "#E5ECF6",
           "showlakes": true,
           "showland": true,
           "subunitcolor": "white"
          },
          "hoverlabel": {
           "align": "left"
          },
          "hovermode": "closest",
          "mapbox": {
           "style": "light"
          },
          "paper_bgcolor": "white",
          "plot_bgcolor": "#E5ECF6",
          "polar": {
           "angularaxis": {
            "gridcolor": "white",
            "linecolor": "white",
            "ticks": ""
           },
           "bgcolor": "#E5ECF6",
           "radialaxis": {
            "gridcolor": "white",
            "linecolor": "white",
            "ticks": ""
           }
          },
          "scene": {
           "xaxis": {
            "backgroundcolor": "#E5ECF6",
            "gridcolor": "white",
            "gridwidth": 2,
            "linecolor": "white",
            "showbackground": true,
            "ticks": "",
            "zerolinecolor": "white"
           },
           "yaxis": {
            "backgroundcolor": "#E5ECF6",
            "gridcolor": "white",
            "gridwidth": 2,
            "linecolor": "white",
            "showbackground": true,
            "ticks": "",
            "zerolinecolor": "white"
           },
           "zaxis": {
            "backgroundcolor": "#E5ECF6",
            "gridcolor": "white",
            "gridwidth": 2,
            "linecolor": "white",
            "showbackground": true,
            "ticks": "",
            "zerolinecolor": "white"
           }
          },
          "shapedefaults": {
           "line": {
            "color": "#2a3f5f"
           }
          },
          "ternary": {
           "aaxis": {
            "gridcolor": "white",
            "linecolor": "white",
            "ticks": ""
           },
           "baxis": {
            "gridcolor": "white",
            "linecolor": "white",
            "ticks": ""
           },
           "bgcolor": "#E5ECF6",
           "caxis": {
            "gridcolor": "white",
            "linecolor": "white",
            "ticks": ""
           }
          },
          "title": {
           "x": 0.05
          },
          "xaxis": {
           "automargin": true,
           "gridcolor": "white",
           "linecolor": "white",
           "ticks": "",
           "title": {
            "standoff": 15
           },
           "zerolinecolor": "white",
           "zerolinewidth": 2
          },
          "yaxis": {
           "automargin": true,
           "gridcolor": "white",
           "linecolor": "white",
           "ticks": "",
           "title": {
            "standoff": 15
           },
           "zerolinecolor": "white",
           "zerolinewidth": 2
          }
         }
        },
        "title": {
         "font": {
          "color": "black",
          "family": "Aptos",
          "size": 25
         },
         "text": "Country-Level CCI And Its Sub-Indicators: Brazil Example",
         "x": 0.5,
         "xanchor": "center",
         "y": 0.95,
         "yanchor": "top"
        },
        "width": 1200,
        "xaxis": {
         "tickfont": {
          "color": "black",
          "family": "Aptos",
          "size": 19
         },
         "ticktext": [
          "Q1-2001",
          "Q3-2001",
          "Q1-2002",
          "Q3-2002",
          "Q1-2003",
          "Q3-2003",
          "Q1-2004",
          "Q3-2004",
          "Q1-2005",
          "Q3-2005",
          "Q1-2006",
          "Q3-2006",
          "Q1-2007",
          "Q3-2007",
          "Q1-2008",
          "Q3-2008",
          "Q1-2009",
          "Q3-2009",
          "Q1-2010",
          "Q3-2010",
          "Q1-2011",
          "Q3-2011",
          "Q1-2012",
          "Q3-2012",
          "Q1-2013",
          "Q3-2013",
          "Q1-2014",
          "Q3-2014",
          "Q1-2015",
          "Q3-2015",
          "Q1-2016",
          "Q3-2016",
          "Q1-2017",
          "Q3-2017",
          "Q1-2018",
          "Q3-2018",
          "Q1-2019",
          "Q3-2019",
          "Q1-2020",
          "Q3-2020",
          "Q1-2021",
          "Q3-2021",
          "Q1-2022",
          "Q3-2022",
          "Q1-2023",
          "Q3-2023",
          "Q1-2024",
          "Q3-2024"
         ],
         "tickvals": [
          "2001-01-01T00:00:00",
          "2001-07-01T00:00:00",
          "2002-01-01T00:00:00",
          "2002-07-01T00:00:00",
          "2003-01-01T00:00:00",
          "2003-07-01T00:00:00",
          "2004-01-01T00:00:00",
          "2004-07-01T00:00:00",
          "2005-01-01T00:00:00",
          "2005-07-01T00:00:00",
          "2006-01-01T00:00:00",
          "2006-07-01T00:00:00",
          "2007-01-01T00:00:00",
          "2007-07-01T00:00:00",
          "2008-01-01T00:00:00",
          "2008-07-01T00:00:00",
          "2009-01-01T00:00:00",
          "2009-07-01T00:00:00",
          "2010-01-01T00:00:00",
          "2010-07-01T00:00:00",
          "2011-01-01T00:00:00",
          "2011-07-01T00:00:00",
          "2012-01-01T00:00:00",
          "2012-07-01T00:00:00",
          "2013-01-01T00:00:00",
          "2013-07-01T00:00:00",
          "2014-01-01T00:00:00",
          "2014-07-01T00:00:00",
          "2015-01-01T00:00:00",
          "2015-07-01T00:00:00",
          "2016-01-01T00:00:00",
          "2016-07-01T00:00:00",
          "2017-01-01T00:00:00",
          "2017-07-01T00:00:00",
          "2018-01-01T00:00:00",
          "2018-07-01T00:00:00",
          "2019-01-01T00:00:00",
          "2019-07-01T00:00:00",
          "2020-01-01T00:00:00",
          "2020-07-01T00:00:00",
          "2021-01-01T00:00:00",
          "2021-07-01T00:00:00",
          "2022-01-01T00:00:00",
          "2022-07-01T00:00:00",
          "2023-01-01T00:00:00",
          "2023-07-01T00:00:00",
          "2024-01-01T00:00:00",
          "2024-07-01T00:00:00"
         ],
         "title": {
          "font": {
           "color": "black",
           "family": "Aptos",
           "size": 22
          },
          "text": "Credit Cycle Indicator (CCI)"
         }
        },
        "yaxis": {
         "gridcolor": "lightgrey",
         "gridwidth": 0.5,
         "showgrid": true,
         "title": {
          "font": {
           "color": "black",
           "family": "Aptos",
           "size": 22
          },
          "text": "Std dev"
         }
        }
       }
      }
     },
     "metadata": {},
     "output_type": "display_data"
    }
   ],
   "source": [
    "def to_quarter(date):\n",
    "    quarter = (date.month - 1) // 3 + 1\n",
    "    return f'Q{quarter}-{date.year}'\n",
    "\n",
    "fig = go.Figure()\n",
    "\n",
    "# Adicionando as séries temporais:\n",
    "fig.add_trace(go.Scatter(x=cci_br.index, y=cci_br, name='CCI Brazil',\n",
    "                            line=dict(color='#559cc3', width=4.5)))\n",
    "fig.add_trace(go.Scatter(x=cci_br.index, y=sub_indicators_br['household_br_sub_indicator'], name='Household Br sub-indicator',\n",
    "                            line=dict(color='#002b5f', width=4.5, dash='dash')))\n",
    "fig.add_trace(go.Scatter(x=cci_br.index, y=sub_indicators_br['corporate_br_sub_indicator'], name='Corporate Br sub-indicator',\n",
    "                            line=dict(color='#ffac17', width=4.5, dash='dash')))\n",
    "fig.add_trace(go.Scatter(x=cci_br.index, y=sub_indicators_br['fsi_em_sub_indicator'], name='FSI EM sub-indicator',\n",
    "                            line=dict(color='#4b2514', width=4.5, dash='dash')))\n",
    "\n",
    "# Ajuste do layout:\n",
    "fig.update_layout(\n",
    "    title={\n",
    "        'text': 'Country-Level CCI And Its Sub-Indicators: Brazil Example',\n",
    "        'y':0.95,\n",
    "        'x':0.5,\n",
    "        'xanchor': 'center',\n",
    "        'yanchor': 'top',\n",
    "        'font': {'size': 25, 'color': 'black', 'family': 'Aptos'}\n",
    "    },\n",
    "    annotations=[\n",
    "        dict(\n",
    "            x=0.5,\n",
    "            y=1.05,\n",
    "            xref='paper',\n",
    "            yref='paper',\n",
    "            text='Credit Cycle Stage (CCS)',\n",
    "            showarrow=False,\n",
    "            font=dict(size=22, color='black', family='Aptos')\n",
    "        )\n",
    "    ],\n",
    "    xaxis_title={\n",
    "        'text': 'Credit Cycle Indicator (CCI)',\n",
    "        'font': {'size': 22, 'color': 'black', 'family': 'Aptos'}\n",
    "    },\n",
    "    yaxis_title={\n",
    "        'text': 'Std dev',\n",
    "        'font': {'size': 22, 'color':'black', 'family': 'Aptos'}},\n",
    "    legend=dict(\n",
    "        orientation=\"h\",\n",
    "        yanchor=\"bottom\",\n",
    "        y=1.06,\n",
    "        xanchor=\"center\",\n",
    "        x=0.5,\n",
    "        font=dict(size=15, color='black', family='Aptos')\n",
    "    ),\n",
    "    xaxis=dict(\n",
    "        tickvals=cci_br.index[::2],\n",
    "        ticktext=[to_quarter(date) for date in cci_br.index[::2]],\n",
    "        tickfont=dict(size=19, color='black', family='Aptos') \n",
    "    ),\n",
    "    yaxis=dict(\n",
    "        showgrid=True,\n",
    "        gridcolor='lightgrey',\n",
    "        gridwidth=0.5\n",
    "    ),\n",
    "    plot_bgcolor='white',\n",
    "    paper_bgcolor='white',\n",
    "    width=1200,\n",
    "    height=480\n",
    ")\n",
    "fig.show()"
   ]
  }
 ],
 "metadata": {
  "kernelspec": {
   "display_name": "Python 3",
   "language": "python",
   "name": "python3"
  },
  "language_info": {
   "codemirror_mode": {
    "name": "ipython",
    "version": 3
   },
   "file_extension": ".py",
   "mimetype": "text/x-python",
   "name": "python",
   "nbconvert_exporter": "python",
   "pygments_lexer": "ipython3",
   "version": "3.11.9"
  }
 },
 "nbformat": 4,
 "nbformat_minor": 2
}
