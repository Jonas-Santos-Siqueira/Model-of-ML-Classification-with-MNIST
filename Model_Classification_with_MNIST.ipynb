{
  "nbformat": 4,
  "nbformat_minor": 0,
  "metadata": {
    "colab": {
      "name": "Model-Classification-with-MNIST.ipynb",
      "provenance": [],
      "collapsed_sections": []
    },
    "kernelspec": {
      "name": "python3",
      "display_name": "Python 3"
    },
    "language_info": {
      "name": "python"
    }
  },
  "cells": [
    {
      "cell_type": "markdown",
      "source": [
        "Importando o banco de dados MNIST\n",
        "-------"
      ],
      "metadata": {
        "id": "2BBuiryBwfrd"
      }
    },
    {
      "cell_type": "code",
      "source": [
        "import numpy as np"
      ],
      "metadata": {
        "id": "xD8CX3vYb8p3"
      },
      "execution_count": 1,
      "outputs": []
    },
    {
      "cell_type": "code",
      "source": [
        "%%time\n",
        "from sklearn.datasets import fetch_openml\n",
        "mnist = fetch_openml('mnist_784', version=1, as_frame=False)\n",
        "mnist.keys()"
      ],
      "metadata": {
        "colab": {
          "base_uri": "https://localhost:8080/"
        },
        "id": "-6WI3qUjg6La",
        "outputId": "36f08767-2aaa-45fa-a011-b37183411a70"
      },
      "execution_count": 2,
      "outputs": [
        {
          "output_type": "stream",
          "name": "stdout",
          "text": [
            "CPU times: user 24.3 s, sys: 540 ms, total: 24.8 s\n",
            "Wall time: 32.7 s\n"
          ]
        }
      ]
    },
    {
      "cell_type": "code",
      "source": [
        "X, y = mnist[\"data\"], mnist[\"target\"]\n",
        "X.shape"
      ],
      "metadata": {
        "colab": {
          "base_uri": "https://localhost:8080/"
        },
        "id": "zExKvrSmheiQ",
        "outputId": "262822b6-5500-44a9-ccaf-1e201632169e"
      },
      "execution_count": 3,
      "outputs": [
        {
          "output_type": "execute_result",
          "data": {
            "text/plain": [
              "(70000, 784)"
            ]
          },
          "metadata": {},
          "execution_count": 3
        }
      ]
    },
    {
      "cell_type": "code",
      "source": [
        "y.shape"
      ],
      "metadata": {
        "colab": {
          "base_uri": "https://localhost:8080/"
        },
        "id": "MRSczjURkljG",
        "outputId": "8fd67b27-cf6f-457a-adc7-88a39510df97"
      },
      "execution_count": 4,
      "outputs": [
        {
          "output_type": "execute_result",
          "data": {
            "text/plain": [
              "(70000,)"
            ]
          },
          "metadata": {},
          "execution_count": 4
        }
      ]
    },
    {
      "cell_type": "markdown",
      "source": [
        "Pegando o vetor da característica de uma instância, remodelá-lo em uma array 28 x 28 e exibi-lo usando a função \"imshow()\""
      ],
      "metadata": {
        "id": "KLYLOOvelvoN"
      }
    },
    {
      "cell_type": "code",
      "source": [
        "%%time\n",
        "%matplotlib inline\n",
        "import matplotlib as mpl\n",
        "import matplotlib.pyplot as plt\n",
        "\n",
        "some_digit = X[0]\n",
        "some_digit_image = some_digit.reshape(28, 28)\n",
        "plt.imshow(some_digit_image, cmap=mpl.cm.binary)\n",
        "plt.axis(\"off\")\n",
        "plt.show()"
      ],
      "metadata": {
        "colab": {
          "base_uri": "https://localhost:8080/",
          "height": 282
        },
        "id": "rnnGMjogknX-",
        "outputId": "a7a7ee47-d57f-4e4f-995b-0b05bc584f22"
      },
      "execution_count": 5,
      "outputs": [
        {
          "output_type": "display_data",
          "data": {
            "text/plain": [
              "<Figure size 432x288 with 1 Axes>"
            ],
            "image/png": "[encoded data removed]"
          },
          "metadata": {
            "needs_background": "light"
          }
        },
        {
          "output_type": "stream",
          "name": "stdout",
          "text": [
            "CPU times: user 61.3 ms, sys: 3.01 ms, total: 64.3 ms\n",
            "Wall time: 78.3 ms\n"
          ]
        }
      ]
    },
    {
      "cell_type": "code",
      "source": [
        "y[0]"
      ],
      "metadata": {
        "id": "xqfjshrT9lKB",
        "colab": {
          "base_uri": "https://localhost:8080/",
          "height": 36
        },
        "outputId": "7bd72c1e-6d5d-4bc3-c47c-184701b79dc6"
      },
      "execution_count": 6,
      "outputs": [
        {
          "output_type": "execute_result",
          "data": {
            "text/plain": [
              "'5'"
            ],
            "application/vnd.google.colaboratory.intrinsic+json": {
              "type": "string"
            }
          },
          "metadata": {},
          "execution_count": 6
        }
      ]
    },
    {
      "cell_type": "markdown",
      "source": [
        "Convertendo Y para inteiro."
      ],
      "metadata": {
        "id": "uVT68cHG92m3"
      }
    },
    {
      "cell_type": "code",
      "source": [
        "y = y.astype(np.uint8)"
      ],
      "metadata": {
        "id": "b8iwQ6lX9OMy"
      },
      "execution_count": 7,
      "outputs": []
    },
    {
      "cell_type": "code",
      "source": [
        "#Criando um conjunto de teste e seprando antes de especionar os dados.\n",
        "\n",
        "X_train, X_test, y_train, y_test = X[:60000], X[:60000], y[:60000], y[:60000]"
      ],
      "metadata": {
        "id": "1RmHdSuP9s8i"
      },
      "execution_count": 8,
      "outputs": []
    },
    {
      "cell_type": "markdown",
      "source": [
        "Treinando um Classificador Binário.\n",
        "---------------------------\n",
        "\n",
        "\n",
        "\n"
      ],
      "metadata": {
        "id": "l6Vyx5vW_n93"
      }
    },
    {
      "cell_type": "code",
      "source": [
        "y_train_5 = (y_train == 5)\n",
        "y_test_5 = (y_test == 5)"
      ],
      "metadata": {
        "id": "9oaic8f9-ypp"
      },
      "execution_count": 9,
      "outputs": []
    },
    {
      "cell_type": "markdown",
      "source": [
        "Usando o Classificador SGDClassifier -Gradiente Descendente estocástico- da Scikit-Learn.\n",
        "\n",
        "\n",
        "* O SGDClassifier depende da aleatoriedade durante o treinamento.\n",
        "* Os parâmetros do random_state podem ser difinidos para ter resultados que possam ser reproduzidos.\n"
      ],
      "metadata": {
        "id": "vNHGsQ7lA38P"
      }
    },
    {
      "cell_type": "code",
      "source": [
        "from sklearn.linear_model import SGDClassifier\n",
        "\n",
        "sgd_clf = SGDClassifier(random_state=42)\n",
        "sgd_clf.fit(X_train, y_train_5)"
      ],
      "metadata": {
        "colab": {
          "base_uri": "https://localhost:8080/"
        },
        "id": "GShWGIaHAJrx",
        "outputId": "bbd555fe-c551-425b-e1b9-03a8979bcfa0"
      },
      "execution_count": 10,
      "outputs": [
        {
          "output_type": "execute_result",
          "data": {
            "text/plain": [
              "SGDClassifier(random_state=42)"
            ]
          },
          "metadata": {},
          "execution_count": 10
        }
      ]
    },
    {
      "cell_type": "code",
      "source": [
        "sgd_clf.predict([some_digit])"
      ],
      "metadata": {
        "colab": {
          "base_uri": "https://localhost:8080/"
        },
        "id": "HUPVgL6nAomL",
        "outputId": "28ea70d4-d748-427b-cf33-26885402920f"
      },
      "execution_count": 11,
      "outputs": [
        {
          "output_type": "execute_result",
          "data": {
            "text/plain": [
              "array([ True])"
            ]
          },
          "metadata": {},
          "execution_count": 11
        }
      ]
    },
    {
      "cell_type": "markdown",
      "source": [
        "Cáculo de Desempenho.\n",
        "---------------------\n",
        "\n"
      ],
      "metadata": {
        "id": "kSlbSi51CirN"
      }
    },
    {
      "cell_type": "markdown",
      "source": [
        "Calculando a acurácia com a validação cruzada:\n",
        "\n",
        ".Implementando a Validação Cruzada"
      ],
      "metadata": {
        "id": "kWliFeXIC4fz"
      }
    },
    {
      "cell_type": "code",
      "source": [
        "\n",
        "from sklearn.model_selection import StratifiedKFold\n",
        "from sklearn.base import clone\n",
        "\n",
        "skfolds = StratifiedKFold(n_splits = 3, shuffle=True, random_state = 150)\n",
        "\n",
        "for train_index, test_index in skfolds.split(X_train, y_train_5):\n",
        "  clone_clf = clone(sgd_clf)\n",
        "  X_train_folds = X_train[train_index]\n",
        "  y_train_folds = y_train_5[train_index]\n",
        "  X_test_fold = X_train[test_index]\n",
        "  y_test_fold = y_train[test_index]\n",
        "\n",
        "  clone_clf.fit(X_train_folds, y_train_folds)\n",
        "  y_pred = clone_clf.predict(X_test_fold)\n",
        "  n_correct = sum(y_pred == y_test_fold)\n",
        "\n",
        "print(n_correct / len(y_pred))\n"
      ],
      "metadata": {
        "id": "zAK6--rgCMyf",
        "colab": {
          "base_uri": "https://localhost:8080/"
        },
        "outputId": "a4158abb-31f7-4b54-b1a7-416d6fa8c2e5"
      },
      "execution_count": 12,
      "outputs": [
        {
          "output_type": "stream",
          "name": "stdout",
          "text": [
            "0.10005\n"
          ]
        }
      ]
    },
    {
      "cell_type": "markdown",
      "source": [
        "Avaliando o modelo SGDClassifier com a função cross_val_score() com o metodo do K-fold:\n",
        "\n",
        "\n",
        "\n",
        "*   Aqui acurácia foi acima de 93%, informando que a proporção de predições é correta.\n",
        "\n",
        "\n",
        "\n",
        "\n"
      ],
      "metadata": {
        "id": "BK2C71Xqjtxc"
      }
    },
    {
      "cell_type": "code",
      "source": [
        "\n",
        "from sklearn.model_selection import cross_val_score\n",
        "\n",
        "cross_val_score(sgd_clf, X_train, y_train_5, cv = 3, scoring=\"accuracy\")\n"
      ],
      "metadata": {
        "colab": {
          "base_uri": "https://localhost:8080/"
        },
        "id": "L5sSlIqGi6FL",
        "outputId": "cf9d0eb4-f5d9-4239-a646-f7b76b47a707"
      },
      "execution_count": 13,
      "outputs": [
        {
          "output_type": "execute_result",
          "data": {
            "text/plain": [
              "array([0.95035, 0.96035, 0.9604 ])"
            ]
          },
          "metadata": {},
          "execution_count": 13
        }
      ]
    },
    {
      "cell_type": "markdown",
      "source": [
        "------------------------------------------\n",
        "Um classificar que deixa a desejar (para fins didaticos)."
      ],
      "metadata": {
        "id": "ELSZPZTWlgW5"
      }
    },
    {
      "cell_type": "code",
      "source": [
        "from sklearn.base import BaseEstimator\n",
        "\n",
        "class Never5Classifier(BaseEstimator):\n",
        "    def fit(self, X, y=None):\n",
        "        pass\n",
        "    def predict(self, X):\n",
        "        return np.zeros((len(X), 1), dtype=bool)    "
      ],
      "metadata": {
        "id": "Q_gQnJnrk3ab"
      },
      "execution_count": 20,
      "outputs": []
    },
    {
      "cell_type": "markdown",
      "source": [
        "Estimando a acurácia desse modelo:"
      ],
      "metadata": {
        "id": "XLWYJwt_cnj5"
      }
    },
    {
      "cell_type": "code",
      "source": [
        "never_5_clf = Never5Classifier()\n",
        "cross_val_score(never_5_clf, X_train, y_train_5, cv=3, scoring=\"accuracy\")"
      ],
      "metadata": {
        "colab": {
          "base_uri": "https://localhost:8080/"
        },
        "id": "mZy1H-htcXSa",
        "outputId": "4f8312e7-53d2-41b9-cd8c-62d6b5248b5e"
      },
      "execution_count": 24,
      "outputs": [
        {
          "output_type": "execute_result",
          "data": {
            "text/plain": [
              "array([0.91125, 0.90855, 0.90915])"
            ]
          },
          "metadata": {},
          "execution_count": 24
        }
      ]
    },
    {
      "cell_type": "markdown",
      "source": [
        "uma demostração do por que geralmente a acurácia não é a medida de desempenho preferida para os classificadores, sobre tudo quando você estiver enfrentando um banco de dados assimêtricos.\n",
        "\n",
        "-----------------------------"
      ],
      "metadata": {
        "id": "wrP4SkrpsaOf"
      }
    },
    {
      "cell_type": "markdown",
      "source": [
        "Matrix de Confusão\n",
        "-----------"
      ],
      "metadata": {
        "id": "aFWQBW_CwXjM"
      }
    },
    {
      "cell_type": "markdown",
      "source": [
        "Pode-se realizar predições sobre o conjunto de testes, mas será feito em outro momento, enquanto isso será usado a função cross_val_predict(), assim: \n",
        "\n",
        "\n",
        "*   Realizando o método K-fold de validação cruzada com a função cross_val_predict(), ela retorna as predições feitas em cada teste de fold.\n",
        "\n",
        "* Significa que você terá uma predição \"limpa\" (quando uma predição é feita por um modelo que nunca manipulou os dados durante o treinamento).\n",
        "\n"
      ],
      "metadata": {
        "id": "nx2ggN750A7S"
      }
    },
    {
      "cell_type": "code",
      "source": [
        "%%time\n",
        "from sklearn.model_selection import cross_val_predict\n",
        "\n",
        "y_train_pred = cross_val_predict(sgd_clf, X_train, y_train_5, cv=3)\n",
        "\n"
      ],
      "metadata": {
        "colab": {
          "base_uri": "https://localhost:8080/"
        },
        "id": "yVuLQ8hWrjfa",
        "outputId": "ffd6f986-7f5d-42b1-9067-033716f1da8b"
      },
      "execution_count": 36,
      "outputs": [
        {
          "output_type": "stream",
          "name": "stdout",
          "text": [
            "CPU times: user 30.6 s, sys: 256 ms, total: 30.9 s\n",
            "Wall time: 30.5 s\n"
          ]
        }
      ]
    },
    {
      "cell_type": "markdown",
      "source": [
        "Agora, obtendo a matriz de confusão usando a função confusion_matrix() passando as classes-alvo y_train_5 e as classes previstas y_train_pred."
      ],
      "metadata": {
        "id": "-LnBaLmk59PS"
      }
    },
    {
      "cell_type": "code",
      "source": [
        "from sklearn.metrics import confusion_matrix\n",
        "\n",
        "confusion_matrix(y_train_5, y_train_pred)"
      ],
      "metadata": {
        "colab": {
          "base_uri": "https://localhost:8080/"
        },
        "id": "xm0iC_1y3WHw",
        "outputId": "b93d34eb-af05-4ae8-faba-5f2827e376f3"
      },
      "execution_count": 34,
      "outputs": [
        {
          "output_type": "execute_result",
          "data": {
            "text/plain": [
              "array([[53892,   687],\n",
              "       [ 1891,  3530]])"
            ]
          },
          "metadata": {},
          "execution_count": 34
        }
      ]
    },
    {
      "cell_type": "markdown",
      "source": [
        "* Na primeira linha desta matriz considera imagens não-5 (classe negativa): 53892 delas foram classificadas corretamente como não-5 (o famoso verdadeiros negativos), já as 687 restantes foram falsos positivos.\n",
        "\n",
        "* Na segunda linha considera as imagens dos 5s (classe positiva): 1891 foram classificados como falso negativo, o restante dos 3530 foram classificados perfeitamente como verdadeiros positivos.\n",
        "\n",
        "-Lembrando que um classificador perfeito teria somente verdadeiros positivos e verdadeiros negativos, no caso a sua matriz de confusão teria valores diferentes de zera apenas em sua diagonal principal, como segue no exemplo abaixo:"
      ],
      "metadata": {
        "id": "EoNmC3Lj9LO3"
      }
    },
    {
      "cell_type": "code",
      "source": [
        "y_train_perfect_predition = y_train_5\n",
        "confusion_matrix(y_train_5, y_train_perfect_predictions)"
      ],
      "metadata": {
        "colab": {
          "base_uri": "https://localhost:8080/"
        },
        "id": "zb1CKgNM7KkO",
        "outputId": "31b61f99-a793-41ed-8758-3c3dabc93aa6"
      },
      "execution_count": 40,
      "outputs": [
        {
          "output_type": "execute_result",
          "data": {
            "text/plain": [
              "array([[54579,     0],\n",
              "       [    0,  5421]])"
            ]
          },
          "metadata": {},
          "execution_count": 40
        }
      ]
    },
    {
      "cell_type": "markdown",
      "source": [
        "Precisão e Renovação \n",
        "--------"
      ],
      "metadata": {
        "id": "GH0cfTKfAvpJ"
      }
    },
    {
      "cell_type": "code",
      "source": [
        "from sklearn.metrics import precision_score, recall_score\n",
        "\n",
        "precision_score(y_train_5, y_train_pred) # == 3530 / (3530+687)"
      ],
      "metadata": {
        "colab": {
          "base_uri": "https://localhost:8080/"
        },
        "id": "tvHJM47iAqF2",
        "outputId": "cf5b681e-1965-422e-d6f8-b84c3c24caf0"
      },
      "execution_count": 42,
      "outputs": [
        {
          "output_type": "execute_result",
          "data": {
            "text/plain": [
              "0.8370879772350012"
            ]
          },
          "metadata": {},
          "execution_count": 42
        }
      ]
    },
    {
      "cell_type": "markdown",
      "source": [
        "* 83,70%"
      ],
      "metadata": {
        "id": "bWswNRrsFMQy"
      }
    },
    {
      "cell_type": "markdown",
      "source": [
        ""
      ],
      "metadata": {
        "id": "g7VsOOTAFMO3"
      }
    },
    {
      "cell_type": "code",
      "source": [
        "recall_score(y_train_5, y_train_pred)  # == 3530 / (3530+1891)"
      ],
      "metadata": {
        "colab": {
          "base_uri": "https://localhost:8080/"
        },
        "id": "K5JNxwTxErVa",
        "outputId": "4c64d6ae-b18d-458f-c41d-4aa5ed4a1463"
      },
      "execution_count": 47,
      "outputs": [
        {
          "output_type": "execute_result",
          "data": {
            "text/plain": [
              "0.6511713705958311"
            ]
          },
          "metadata": {},
          "execution_count": 47
        }
      ]
    },
    {
      "cell_type": "markdown",
      "source": [
        "* 65,11%"
      ],
      "metadata": {
        "id": "24u3EFAjFRwF"
      }
    },
    {
      "cell_type": "markdown",
      "source": [
        "Acima mostra que o detector não parece tão bom como quando foi analisado anteriormente. "
      ],
      "metadata": {
        "id": "zL2Wz_Cpi6Fa"
      }
    },
    {
      "cell_type": "markdown",
      "source": [
        "\n",
        "\n",
        "*   Calculando o F1 score com a função f1_score:\n",
        "\n"
      ],
      "metadata": {
        "id": "qrS_6lbGmBZg"
      }
    },
    {
      "cell_type": "code",
      "source": [
        "from sklearn.metrics import f1_score\n",
        "\n",
        "f1_score(y_train_5, y_train_pred)"
      ],
      "metadata": {
        "colab": {
          "base_uri": "https://localhost:8080/"
        },
        "id": "3Kp1wv1jFT-m",
        "outputId": "86335114-68ca-438d-cf83-8c6342194b6d"
      },
      "execution_count": 49,
      "outputs": [
        {
          "output_type": "execute_result",
          "data": {
            "text/plain": [
              "0.7325171197343846"
            ]
          },
          "metadata": {},
          "execution_count": 49
        }
      ]
    },
    {
      "cell_type": "markdown",
      "source": [
        "* 73,25%"
      ],
      "metadata": {
        "id": "GLaGKz63meOq"
      }
    },
    {
      "cell_type": "markdown",
      "source": [
        "Trade-off precisão/revocação\n",
        "------"
      ],
      "metadata": {
        "id": "KGDVdJX4oREu"
      }
    },
    {
      "cell_type": "markdown",
      "source": [
        "chamando o metodo decision_function(), onde retorna um score para cada instância e, em seguida faz as predições com base nesses scores usando qualquer linha limiar desejad:"
      ],
      "metadata": {
        "id": "5bsxnhSyofzo"
      }
    },
    {
      "cell_type": "code",
      "source": [
        "y_scores = sgd_clf.decision_function([some_digit])\n",
        "y_scores"
      ],
      "metadata": {
        "colab": {
          "base_uri": "https://localhost:8080/"
        },
        "id": "5kTzXSvdmbLI",
        "outputId": "888e40ed-f413-49ea-d5eb-c54fa12e4e16"
      },
      "execution_count": 50,
      "outputs": [
        {
          "output_type": "execute_result",
          "data": {
            "text/plain": [
              "array([2164.22030239])"
            ]
          },
          "metadata": {},
          "execution_count": 50
        }
      ]
    },
    {
      "cell_type": "code",
      "source": [
        "threshold = 0"
      ],
      "metadata": {
        "id": "XDIsaIE5pOIn"
      },
      "execution_count": 110,
      "outputs": []
    },
    {
      "cell_type": "code",
      "source": [
        "y_some_digit_pred = (y_scores > threshold)\n",
        "y_some_digit_pred"
      ],
      "metadata": {
        "colab": {
          "base_uri": "https://localhost:8080/"
        },
        "id": "TosWUDkRpTan",
        "outputId": "d25b33fb-5715-4bf6-e7d9-9d891b1dc6b7"
      },
      "execution_count": 111,
      "outputs": [
        {
          "output_type": "execute_result",
          "data": {
            "text/plain": [
              "array([ True, False, False, ...,  True, False, False])"
            ]
          },
          "metadata": {},
          "execution_count": 111
        }
      ]
    },
    {
      "cell_type": "markdown",
      "source": [
        "Aumentando o limiar do SGDClassifier:"
      ],
      "metadata": {
        "id": "mqFg3P1jrYio"
      }
    },
    {
      "cell_type": "code",
      "source": [
        "threshold = 8000"
      ],
      "metadata": {
        "id": "iXnGfMdcrOg3"
      },
      "execution_count": 103,
      "outputs": []
    },
    {
      "cell_type": "code",
      "source": [
        "y_some_digit_pred = (y_scores > threshold)\n",
        "y_some_digit_pred"
      ],
      "metadata": {
        "colab": {
          "base_uri": "https://localhost:8080/"
        },
        "id": "Cy4UAi8bsIUf",
        "outputId": "22a59f96-78f1-42f9-f40e-0a9d23acc558"
      },
      "execution_count": 104,
      "outputs": [
        {
          "output_type": "execute_result",
          "data": {
            "text/plain": [
              "array([False, False, False, ...,  True, False, False])"
            ]
          },
          "metadata": {},
          "execution_count": 104
        }
      ]
    },
    {
      "cell_type": "markdown",
      "source": [
        "Ao aumentar o limiar, diminui a revocação. o Classificador detecta quando o limiar é 0, mas o perde quando o limiar sobe até 8 mil."
      ],
      "metadata": {
        "id": "e1POHjG-t3w_"
      }
    },
    {
      "cell_type": "markdown",
      "source": [
        "* Agora sera usado a função cross_val_predict() para obter os scores de todas as instâncias no conjunto de treinamento."
      ],
      "metadata": {
        "id": "v-oMxpCnwHfK"
      }
    },
    {
      "cell_type": "code",
      "source": [
        "y_scores = cross_val_predict(sgd_clf, X_train, y_train_5, cv=3,\n",
        "                             method=\"decision_function\")"
      ],
      "metadata": {
        "id": "f0VeiC4Ztm43"
      },
      "execution_count": 112,
      "outputs": []
    },
    {
      "cell_type": "markdown",
      "source": [
        "* Calculando a precisão e a revocação de todos os limiares possiveis com a função precision_recall_curve:"
      ],
      "metadata": {
        "id": "SWJy5GDXxRcy"
      }
    },
    {
      "cell_type": "code",
      "source": [
        "from sklearn.metrics import precision_recall_curve\n",
        "\n",
        "precisions, recalls, threshold = precision_recall_curve(y_train_5, y_scores)"
      ],
      "metadata": {
        "id": "IVRHYAaxwlW-"
      },
      "execution_count": 113,
      "outputs": []
    },
    {
      "cell_type": "markdown",
      "source": [
        "* Plotando um grafico mostrando a precisão e a revocação:\n",
        "\n",
        "Um detalhe, o codigo do livro estava errado, aqui em baixo segue a versão corrigida."
      ],
      "metadata": {
        "id": "DQHGf2Q3x_LK"
      }
    },
    {
      "cell_type": "code",
      "source": [
        "def plot_precision_recall_vs_threshold(precisions, recalls, thresholds):\n",
        "\n",
        "    plt.plot(thresholds, precisions[:-1], \"b--\", label=\"Precision\", linewidth=2)\n",
        "    plt.plot(thresholds, recalls[:-1], \"g-\", label=\"Recall\", linewidth=2)\n",
        "    plt.legend(loc=\"center right\", fontsize=16) \n",
        "    plt.xlabel(\"Threshold\", fontsize=16)        \n",
        "    plt.grid(True)                              \n",
        "    plt.axis([-50000, 50000, 0, 1])             "
      ],
      "metadata": {
        "id": "WG46NtLuy2O2"
      },
      "execution_count": 131,
      "outputs": []
    },
    {
      "cell_type": "code",
      "source": [
        "recall_90_precision = recalls[np.argmax(precisions >= 0.90)]\n",
        "threshold_90_precision = threshold[np.argmax(precisions >= 0.90)]"
      ],
      "metadata": {
        "id": "Z0e8FXRj9qdI"
      },
      "execution_count": 132,
      "outputs": []
    },
    {
      "cell_type": "code",
      "source": [
        "plt.figure(figsize=(8, 4))                                                                  \n",
        "plot_precision_recall_vs_threshold(precisions, recalls, threshold)\n",
        "plt.plot([threshold_90_precision, threshold_90_precision], [0., 0.9], \"r:\")                 \n",
        "plt.plot([-50000, threshold_90_precision], [0.9, 0.9], \"r:\")                                \n",
        "plt.plot([-50000, threshold_90_precision], [recall_90_precision, recall_90_precision], \"r:\")\n",
        "plt.plot([threshold_90_precision], [0.9], \"ro\")                                             \n",
        "plt.plot([threshold_90_precision], [recall_90_precision], \"ro\")                                                                      \n",
        "plt.show()"
      ],
      "metadata": {
        "colab": {
          "base_uri": "https://localhost:8080/",
          "height": 287
        },
        "id": "dLS5_ZB192IZ",
        "outputId": "33cfd26f-627a-4234-946c-b648c1ed5aa0"
      },
      "execution_count": 133,
      "outputs": [
        {
          "output_type": "display_data",
          "data": {
            "text/plain": [
              "<Figure size 576x288 with 1 Axes>"
            ],
            "image/png": "[encoded data removed]"
          },
          "metadata": {
            "needs_background": "light"
          }
        }
      ]
    },
    {
      "cell_type": "code",
      "source": [
        "(y_train_pred == (y_scores > 0)).all()"
      ],
      "metadata": {
        "colab": {
          "base_uri": "https://localhost:8080/"
        },
        "id": "4PCaRZZ7zmFt",
        "outputId": "7ccf4aa0-6f62-4e2a-bd86-fc684f68dae9"
      },
      "execution_count": 121,
      "outputs": [
        {
          "output_type": "execute_result",
          "data": {
            "text/plain": [
              "True"
            ]
          },
          "metadata": {},
          "execution_count": 121
        }
      ]
    },
    {
      "cell_type": "markdown",
      "source": [
        "* Plotando um grafico com a precisão diretamente em relação á revocação:"
      ],
      "metadata": {
        "id": "LWYEljIJ4y_5"
      }
    },
    {
      "cell_type": "code",
      "source": [
        "def plot_precision_recall(precision, recalls):\n",
        "  plt.plot(recalls, precisions, \"b-\", linewidth=2)\n",
        "  plt.xlabel(\"Revocação\", fontsize=13)\n",
        "  plt.ylabel(\"Precisão\", fontsize=13)\n",
        "  plt.axis([0, 1, 0, 1])\n",
        "  plt.grid(True)\n"
      ],
      "metadata": {
        "id": "o1jQGPI04tV2"
      },
      "execution_count": 127,
      "outputs": []
    },
    {
      "cell_type": "code",
      "source": [
        "plt.figure(figsize=(8, 6))\n",
        "plot_precision_recall(precisions, recalls)\n",
        "plt.plot([recall_90_precision, recall_90_precision], [0.,0.9], \"r\")\n",
        "plt.plot([0.0, recall_90_precision], [0.9, 0.9], \"r\")\n",
        "plt.plot([recall_90_precision], [0.9], \"ro\")\n",
        "plt.show()  "
      ],
      "metadata": {
        "colab": {
          "base_uri": "https://localhost:8080/",
          "height": 395
        },
        "id": "J77t2VL28UY9",
        "outputId": "cbc6f1f6-dd01-43d1-cf66-642210e990b9"
      },
      "execution_count": 137,
      "outputs": [
        {
          "output_type": "display_data",
          "data": {
            "text/plain": [
              "<Figure size 576x432 with 1 Axes>"
            ],
            "image/png": "[encoded data removed]"
          },
          "metadata": {
            "needs_background": "light"
          }
        }
      ]
    },
    {
      "cell_type": "markdown",
      "source": [
        "* Procurando o limiar mais baixo que forneça pelo menos 90% de precisão usando o\n",
        "np.argmax()."
      ],
      "metadata": {
        "id": "xejQ5jX2_Tiq"
      }
    },
    {
      "cell_type": "code",
      "source": [
        "threshold_90_precision = threshold[np.argmax(precisions >= 0.90)]"
      ],
      "metadata": {
        "id": "mpEUR9Fe9JBz"
      },
      "execution_count": 138,
      "outputs": []
    },
    {
      "cell_type": "markdown",
      "source": [
        "* Para fazer predições em vez de chamar o metodo predict(), estou usando esse códico abaixo:"
      ],
      "metadata": {
        "id": "kWdU1WMP_6_u"
      }
    },
    {
      "cell_type": "code",
      "source": [
        "y_train_pred_90 = (y_scores >= threshold_90_precision)"
      ],
      "metadata": {
        "id": "GEuJhxsP_1jC"
      },
      "execution_count": 140,
      "outputs": []
    },
    {
      "cell_type": "markdown",
      "source": [
        "* conferindo a precisão e a revocação dessas predições"
      ],
      "metadata": {
        "id": "p1qAuGJTAWGB"
      }
    },
    {
      "cell_type": "markdown",
      "source": [
        "att. isso mostra que tenho um classificador com 90%!"
      ],
      "metadata": {
        "id": "WReXLYHGBTiv"
      }
    },
    {
      "cell_type": "code",
      "source": [
        "precision_score(y_train_5, y_train_pred_90)"
      ],
      "metadata": {
        "colab": {
          "base_uri": "https://localhost:8080/"
        },
        "id": "YMFnosZjAMBr",
        "outputId": "43861c03-f862-4bf3-8994-28c29a4e17c5"
      },
      "execution_count": 141,
      "outputs": [
        {
          "output_type": "execute_result",
          "data": {
            "text/plain": [
              "0.9000345901072293"
            ]
          },
          "metadata": {},
          "execution_count": 141
        }
      ]
    },
    {
      "cell_type": "code",
      "source": [
        "recall_score(y_train_5, y_train_pred_90)"
      ],
      "metadata": {
        "colab": {
          "base_uri": "https://localhost:8080/"
        },
        "id": "Qwqwbj1FAw3S",
        "outputId": "8f71a065-a6fc-422c-92db-5b003a5a1d32"
      },
      "execution_count": 142,
      "outputs": [
        {
          "output_type": "execute_result",
          "data": {
            "text/plain": [
              "0.4799852425751706"
            ]
          },
          "metadata": {},
          "execution_count": 142
        }
      ]
    },
    {
      "cell_type": "markdown",
      "source": [
        " *Curva* ROC\n",
        "---"
      ],
      "metadata": {
        "id": "cAWUuzGGEaI8"
      }
    },
    {
      "cell_type": "markdown",
      "source": [
        "* Antes de plotar a curva ROC, irie usar a função roc_curve() a fim de calcular a TPR e o FPR para varios valores de limiares."
      ],
      "metadata": {
        "id": "7JcQw2ooIn_Q"
      }
    },
    {
      "cell_type": "code",
      "source": [
        "from sklearn.metrics import roc_curve\n",
        "\n",
        "fpr, tpr, thresholds = roc_curve(y_train_5, y_scores)"
      ],
      "metadata": {
        "id": "l4BbOuUsA3kj"
      },
      "execution_count": 144,
      "outputs": []
    },
    {
      "cell_type": "markdown",
      "source": [
        "* Agora uma função para plota FPR em relação ao TPR usando o matplotlib (por enquanto rsrs)"
      ],
      "metadata": {
        "id": "piHJ4_xMJJ-f"
      }
    },
    {
      "cell_type": "code",
      "source": [
        "from sklearn.metrics._plot.roc_curve import plot_roc_curve\n",
        "\n",
        "def plot_roc_curve(fpr, tpr, label=None):\n",
        "    plt.plot(fpr, tpr, linewidth=2, label=label)\n",
        "    plt.plot([0, 1], [0, 1], 'k--')\n",
        "    plt.axis([0, 1, 0, 1])                                \n",
        "    plt.xlabel('Taxa de falsos positivos (Fall-Out)', fontsize=16)\n",
        "    plt.ylabel('Taxa de Verdadeiro Positivo (Recall)', fontsize=16)\n",
        "    plt.grid(True)     "
      ],
      "metadata": {
        "id": "K6qxv9qKJ_hq"
      },
      "execution_count": 157,
      "outputs": []
    },
    {
      "cell_type": "code",
      "source": [
        "plt.figure(figsize=(8, 6))                                    \n",
        "plot_roc_curve(fpr, tpr)\n",
        "fpr_90 = fpr[np.argmax(tpr >= recall_90_precision)]           \n",
        "plt.plot([fpr_90, fpr_90], [0., recall_90_precision], \"r:\")   \n",
        "plt.plot([0.0, fpr_90], [recall_90_precision, recall_90_precision], \"r:\")  \n",
        "plt.plot([fpr_90], [recall_90_precision], \"ro\")                                                   \n",
        "plt.show()"
      ],
      "metadata": {
        "colab": {
          "base_uri": "https://localhost:8080/",
          "height": 397
        },
        "id": "8eEMGA9DKMlx",
        "outputId": "ff8eecf9-307e-43f0-ef88-af83e1cbdcd3"
      },
      "execution_count": 159,
      "outputs": [
        {
          "output_type": "display_data",
          "data": {
            "text/plain": [
              "<Figure size 576x432 with 1 Axes>"
            ],
            "image/png": "[encoded data removed]"
          },
          "metadata": {
            "needs_background": "light"
          }
        }
      ]
    },
    {
      "cell_type": "markdown",
      "source": [
        "* Calculando o ROC AUC:"
      ],
      "metadata": {
        "id": "82QckroTLz-U"
      }
    },
    {
      "cell_type": "code",
      "source": [
        "from sklearn.metrics import roc_auc_score\n",
        "\n",
        "roc_auc_score(y_train_5, y_scores)"
      ],
      "metadata": {
        "colab": {
          "base_uri": "https://localhost:8080/"
        },
        "id": "G0BjdJTMK-PZ",
        "outputId": "8020e8ae-44e0-4744-8640-8b5f26b7ab10"
      },
      "execution_count": 160,
      "outputs": [
        {
          "output_type": "execute_result",
          "data": {
            "text/plain": [
              "0.9604938554008616"
            ]
          },
          "metadata": {},
          "execution_count": 160
        }
      ]
    },
    {
      "cell_type": "markdown",
      "source": [
        "* Treinando um RandomForestClassifier e comparar o SGDClassifier."
      ],
      "metadata": {
        "id": "2ybRuOjBQbIr"
      }
    },
    {
      "cell_type": "code",
      "source": [
        "from sklearn.ensemble import RandomForestClassifier\n",
        "\n",
        "forest_clf = RandomForestClassifier(random_state=42)\n",
        "y_probas_forest = cross_val_predict(forest_clf, X_train, y_train_5, cv=3,\n",
        "                                    method=\"predict_proba\")"
      ],
      "metadata": {
        "id": "88xhTjxwMFsZ"
      },
      "execution_count": 161,
      "outputs": []
    },
    {
      "cell_type": "markdown",
      "source": [
        "* Usando a probabilidade da classe positiva como a score:"
      ],
      "metadata": {
        "id": "3oLMCPX5UImr"
      }
    },
    {
      "cell_type": "code",
      "source": [
        "y_scores_forest = y_probas_forest[:,1]\n",
        "fpr_forest, tpr_forest, thresholds_forest = roc_curve(y_train_5, y_scores_forest)"
      ],
      "metadata": {
        "id": "6qK-EkM5TzVo"
      },
      "execution_count": 162,
      "outputs": []
    },
    {
      "cell_type": "markdown",
      "source": [
        "* Plotando a Curva ROC do RandomForestClassifier:"
      ],
      "metadata": {
        "id": "3mBi47TrU6OA"
      }
    },
    {
      "cell_type": "code",
      "source": [
        "recall_for_forest = tpr_forest[np.argmax(fpr_forest >= fpr_90)]"
      ],
      "metadata": {
        "id": "B28qrC_wVldJ"
      },
      "execution_count": 164,
      "outputs": []
    },
    {
      "cell_type": "code",
      "source": [
        "plt.figure(figsize=(8, 6))\n",
        "plt.plot(fpr, tpr, \"b:\", linewidth=2, label=\"SGD\")\n",
        "plot_roc_curve(fpr_forest, tpr_forest, \"Random Forest\")\n",
        "plt.plot([fpr_90, fpr_90], [0., recall_90_precision], \"r:\")\n",
        "plt.plot([0.0, fpr_90], [recall_90_precision, recall_90_precision], \"r:\")\n",
        "plt.plot([fpr_90], [recall_90_precision], \"ro\")\n",
        "plt.plot([fpr_90, fpr_90], [0., recall_for_forest], \"r:\")\n",
        "plt.plot([fpr_90], [recall_for_forest], \"ro\")\n",
        "plt.grid(True)\n",
        "plt.legend(loc=\"lower right\", fontsize=16)\n",
        "plt.show()"
      ],
      "metadata": {
        "colab": {
          "base_uri": "https://localhost:8080/",
          "height": 397
        },
        "id": "8FZ9FXG7Ul25",
        "outputId": "3c386fff-6525-41e3-d83f-924490752464"
      },
      "execution_count": 166,
      "outputs": [
        {
          "output_type": "display_data",
          "data": {
            "text/plain": [
              "<Figure size 576x432 with 1 Axes>"
            ],
            "image/png": "[encoded data removed]"
          },
          "metadata": {
            "needs_background": "light"
          }
        }
      ]
    },
    {
      "cell_type": "markdown",
      "source": [
        "* A curva ROC do RandomForestClassifier se demonstrou melhor que a do SGDClassifier, ficando mais proximo de 1.\n",
        "\n",
        "* Mostrando logo em seguida o valor do score:"
      ],
      "metadata": {
        "id": "IiuQztO-bp1Z"
      }
    },
    {
      "cell_type": "code",
      "source": [
        "roc_auc_score(y_train_5, y_scores_forest)"
      ],
      "metadata": {
        "colab": {
          "base_uri": "https://localhost:8080/"
        },
        "id": "dSIMe3otb3TJ",
        "outputId": "1303414a-69db-461c-dab4-23f7bbcf4f6f"
      },
      "execution_count": 168,
      "outputs": [
        {
          "output_type": "execute_result",
          "data": {
            "text/plain": [
              "0.9983436731328145"
            ]
          },
          "metadata": {},
          "execution_count": 168
        }
      ]
    },
    {
      "cell_type": "markdown",
      "source": [
        "Classificação Multiclasse\n",
        "----"
      ],
      "metadata": {
        "id": "jITP4pkTglbZ"
      }
    },
    {
      "cell_type": "code",
      "source": [
        ""
      ],
      "metadata": {
        "id": "-04ZEzaZgU5s"
      },
      "execution_count": null,
      "outputs": []
    }
  ]
}